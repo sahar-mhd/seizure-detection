{
 "cells": [
  {
   "cell_type": "code",
   "execution_count": 1,
   "id": "f52b685f",
   "metadata": {},
   "outputs": [],
   "source": [
    "import pyedflib\n",
    "import numpy as np\n",
    "from scipy.signal import butter, lfilter\n",
    "import matplotlib.pyplot as plt\n",
    "import tensorflow as tf\n",
    "import tensorflow.keras.layers as layers\n",
    "import time\n",
    "import math\n",
    "from sklearn.ensemble import RandomForestClassifier\n",
    "from sklearn.model_selection import train_test_split, KFold\n",
    "from sklearn.metrics import accuracy_score, recall_score, precision_score, confusion_matrix, precision_recall_curve, \\\n",
    "    PrecisionRecallDisplay\n",
    "import matplotlib.pyplot as plt\n",
    "import pickle\n",
    "from scipy.signal import butter, lfilter\n",
    "from sklearn.neighbors import KNeighborsClassifier\n",
    "from sklearn.preprocessing import MinMaxScaler\n",
    "from sklearn.svm import SVC\n",
    "from scipy import stats\n",
    "from sklearn.cluster import KMeans\n",
    "from sklearn.ensemble import RandomForestClassifier\n",
    "from sklearn.model_selection import train_test_split, KFold\n",
    "from sklearn.metrics import accuracy_score, recall_score, precision_score, confusion_matrix, precision_recall_curve, \\\n",
    "    PrecisionRecallDisplay\n",
    "import matplotlib.pyplot as plt\n",
    "import pickle\n",
    "from scipy.signal import butter, lfilter\n",
    "from sklearn.neighbors import KNeighborsClassifier\n",
    "from sklearn.preprocessing import MinMaxScaler\n",
    "from sklearn.svm import SVC\n",
    "from scipy import stats\n",
    "import random\n",
    "import os"
   ]
  },
  {
   "cell_type": "code",
   "execution_count": 2,
   "id": "9d242413",
   "metadata": {},
   "outputs": [
    {
     "name": "stdout",
     "output_type": "stream",
     "text": [
      "921600 829440 46080 875520\n",
      "648\n"
     ]
    }
   ],
   "source": [
    "file_name = \"normal\\chb01_01.edf\"\n",
    "f = pyedflib.EdfReader(file_name)\n",
    "n = 2\n",
    "signal_labels = f.getSignalLabels()\n",
    "sigbufs = np.zeros((n, f.getNSamples()[0]))\n",
    "for i in np.arange(n):\n",
    "        sigbufs[i, :] = f.readSignal(i+16)\n",
    "        \n",
    "#removing the first and last 5% of data\n",
    "m = f.getNSamples()[0]\n",
    "length = int(m - (m/10))\n",
    "start = int(m/20)\n",
    "end = m - start\n",
    "print(m, length, start , end)\n",
    "norm_data = np.zeros((n,length))\n",
    "for i in np.arange(n):\n",
    "        norm_data[i,:] = sigbufs[i,start:end]\n",
    "        \n",
    "#getting 5 secs\n",
    "# data sampling rate is 256 and we want windows of 5 seconds\n",
    "k = int(length/(256*5))\n",
    "print(k)\n",
    "normal = []\n",
    "for i in range(0, 71):\n",
    "    normal.append(norm_data[:,i*256:(i*256)+5*256])"
   ]
  },
  {
   "cell_type": "code",
   "execution_count": 3,
   "id": "9f1c5b76",
   "metadata": {},
   "outputs": [
    {
     "name": "stdout",
     "output_type": "stream",
     "text": [
      "921600 829440 46080 875520\n",
      "648\n"
     ]
    }
   ],
   "source": [
    "file_name = \"normal\\chb01_02.edf\"\n",
    "f = pyedflib.EdfReader(file_name)\n",
    "n = 2\n",
    "signal_labels = f.getSignalLabels()\n",
    "sigbufs = np.zeros((n, f.getNSamples()[0]))\n",
    "for i in np.arange(n):\n",
    "        sigbufs[i, :] = f.readSignal(i+16)\n",
    "        \n",
    "#removing the first and last 5% of data\n",
    "m = f.getNSamples()[0]\n",
    "length = int(m - (m/10))\n",
    "start = int(m/20)\n",
    "end = m - start\n",
    "print(m, length, start , end)\n",
    "norm_data = np.zeros((n,length))\n",
    "for i in np.arange(n):\n",
    "        norm_data[i,:] = sigbufs[i,start:end]\n",
    "        \n",
    "#getting 5 secs\n",
    "# data sampling rate is 256 and we want windows of 5 seconds\n",
    "k = int(length/(256*5))\n",
    "print(k)\n",
    "\n",
    "for i in range(0, 71):\n",
    "    normal.append(norm_data[:,i*256:(i*256)+5*256])"
   ]
  },
  {
   "cell_type": "code",
   "execution_count": 4,
   "id": "06919958",
   "metadata": {},
   "outputs": [
    {
     "name": "stdout",
     "output_type": "stream",
     "text": [
      "921600 829440 46080 875520\n",
      "648\n"
     ]
    }
   ],
   "source": [
    "file_name = \"normal\\chb01_05.edf\"\n",
    "f = pyedflib.EdfReader(file_name)\n",
    "n = 2\n",
    "signal_labels = f.getSignalLabels()\n",
    "sigbufs = np.zeros((n, f.getNSamples()[0]))\n",
    "for i in np.arange(n):\n",
    "        sigbufs[i, :] = f.readSignal(i+16)\n",
    "        \n",
    "#removing the first and last 5% of data\n",
    "m = f.getNSamples()[0]\n",
    "length = int(m - (m/10))\n",
    "start = int(m/20)\n",
    "end = m - start\n",
    "print(m, length, start , end)\n",
    "norm_data = np.zeros((n,length))\n",
    "for i in np.arange(n):\n",
    "        norm_data[i,:] = sigbufs[i,start:end]\n",
    "        \n",
    "#getting 5 secs\n",
    "# data sampling rate is 256 and we want windows of 5 seconds\n",
    "k = int(length/(256*5))\n",
    "print(k)\n",
    "\n",
    "for i in range(0, 71):\n",
    "    normal.append(norm_data[:,i*256:(i*256)+5*256])"
   ]
  },
  {
   "cell_type": "code",
   "execution_count": 5,
   "id": "8c44746b",
   "metadata": {},
   "outputs": [
    {
     "name": "stdout",
     "output_type": "stream",
     "text": [
      "921600 10240 766976 777216\n",
      "35\n"
     ]
    }
   ],
   "source": [
    "file_name = \"seizures\\chb01_03.edf\"\n",
    "f = pyedflib.EdfReader(file_name)\n",
    "n = 2\n",
    "sigbufs = np.zeros((n, f.getNSamples()[0]))\n",
    "for i in np.arange(n):\n",
    "        sigbufs[i, :] = f.readSignal(i+16)\n",
    "        \n",
    "#getting the seizure part\n",
    "m = f.getNSamples()[0]\n",
    "start = 2996 * 256\n",
    "end = 3036 * 256\n",
    "length = end - start\n",
    "print(m, length, start , end)\n",
    "norm_s = np.zeros((n, length))\n",
    "for i in np.arange(n):\n",
    "        norm_s[i,:] = sigbufs[i,start:end]\n",
    "        \n",
    "#getting 5 secs\n",
    "# data sampling rate is 256 and we want windows of 5 seconds\n",
    "k = int(length/256)-5\n",
    "print(k)\n",
    "seizure = []\n",
    "for i in range(0, k):\n",
    "    seizure.append(norm_s[:,i*256:(i*256)+5*256])"
   ]
  },
  {
   "cell_type": "code",
   "execution_count": 6,
   "id": "12757e96",
   "metadata": {},
   "outputs": [
    {
     "name": "stdout",
     "output_type": "stream",
     "text": [
      "921600 911360 766976 777216\n",
      "911360 820224 45568 865792\n",
      "640\n"
     ]
    }
   ],
   "source": [
    "#getting normal from seizure file\n",
    "m = f.getNSamples()[0]\n",
    "start = 2996 * 256\n",
    "end = 3036 * 256\n",
    "length = end - start\n",
    "length = m - length\n",
    "print(m, length, start , end)\n",
    "norm_data = np.zeros((n, length))\n",
    "for i in np.arange(n):\n",
    "        norm_data[i,:start] = sigbufs[i,:start]\n",
    "        norm_data[i,start:] = sigbufs[i,end:]\n",
    "        \n",
    "#removing the first and last 5% of data\n",
    "m = length\n",
    "length = int(m - (m/10))\n",
    "start = int(m/20)\n",
    "end = m - start\n",
    "print(m, length, start , end)\n",
    "norm_data = np.zeros((n,length))\n",
    "for i in np.arange(n):\n",
    "        norm_data[i,:] = sigbufs[i,start:end]\n",
    "        \n",
    "#getting 5 secs\n",
    "# data sampling rate is 256 and we want windows of 5 seconds\n",
    "k = int(length/(256*5))\n",
    "print(k)\n",
    "\n",
    "for i in range(0, 35):\n",
    "    normal.append(norm_data[:,i*256:(i*256)+5*256])"
   ]
  },
  {
   "cell_type": "code",
   "execution_count": 7,
   "id": "c5dea4b9",
   "metadata": {},
   "outputs": [
    {
     "name": "stdout",
     "output_type": "stream",
     "text": [
      "921600 6912 375552 382464\n",
      "22\n"
     ]
    }
   ],
   "source": [
    "file_name = \"seizures\\chb01_04.edf\"\n",
    "f = pyedflib.EdfReader(file_name)\n",
    "n = 2\n",
    "signal_labels = f.getSignalLabels()\n",
    "sigbufs = np.zeros((n, f.getNSamples()[0]))\n",
    "for i in np.arange(n):\n",
    "        sigbufs[i, :] = f.readSignal(i+16)\n",
    "        \n",
    "#getting the seizure part\n",
    "m = f.getNSamples()[0]\n",
    "start = 1467 * 256\n",
    "end = 1494 * 256\n",
    "length = end - start\n",
    "print(m, length, start , end)\n",
    "norm_s = np.zeros((n, length))\n",
    "for i in np.arange(n):\n",
    "        norm_s[i,:] = sigbufs[i,start:end]\n",
    "        \n",
    "#getting 5 secs\n",
    "# data sampling rate is 256 and we want windows of 5 seconds\n",
    "k = int(length/256)-5\n",
    "print(k)\n",
    "\n",
    "for i in range(0, k):\n",
    "    seizure.append(norm_s[:,i*256:(i*256)+5*256])"
   ]
  },
  {
   "cell_type": "code",
   "execution_count": 8,
   "id": "7279fde8",
   "metadata": {},
   "outputs": [
    {
     "name": "stdout",
     "output_type": "stream",
     "text": [
      "921600 911360 766976 777216\n",
      "911360 820224 45568 865792\n",
      "640\n"
     ]
    }
   ],
   "source": [
    "#getting normal from seizure file\n",
    "m = f.getNSamples()[0]\n",
    "start = 2996 * 256\n",
    "end = 3036 * 256\n",
    "length = end - start\n",
    "length = m - length\n",
    "print(m, length, start , end)\n",
    "norm_data = np.zeros((n, length))\n",
    "for i in np.arange(n):\n",
    "        norm_data[i,:start] = sigbufs[i,:start]\n",
    "        norm_data[i,start:] = sigbufs[i,end:]\n",
    "        \n",
    "#removing the first and last 5% of data\n",
    "m = length\n",
    "length = int(m - (m/10))\n",
    "start = int(m/20)\n",
    "end = m - start\n",
    "print(m, length, start , end)\n",
    "norm_data = np.zeros((n,length))\n",
    "for i in np.arange(n):\n",
    "        norm_data[i,:] = sigbufs[i,start:end]\n",
    "        \n",
    "#getting 5 secs\n",
    "# data sampling rate is 256 and we want windows of 5 seconds\n",
    "k = int(length/(256*5))\n",
    "print(k)\n",
    "\n",
    "for i in range(0, 36):\n",
    "    normal.append(norm_data[:,i*256:(i*256)+5*256])"
   ]
  },
  {
   "cell_type": "code",
   "execution_count": 9,
   "id": "e7c512e0",
   "metadata": {},
   "outputs": [
    {
     "name": "stdout",
     "output_type": "stream",
     "text": [
      "921600 10240 443392 453632\n",
      "35\n"
     ]
    }
   ],
   "source": [
    "file_name = \"seizures\\chb01_15.edf\"\n",
    "f = pyedflib.EdfReader(file_name)\n",
    "n = 2\n",
    "signal_labels = f.getSignalLabels()\n",
    "sigbufs = np.zeros((n, f.getNSamples()[0]))\n",
    "for i in np.arange(n):\n",
    "        sigbufs[i, :] = f.readSignal(i+16)\n",
    "        \n",
    "#getting the seizure part\n",
    "m = f.getNSamples()[0]\n",
    "start = 1732 * 256\n",
    "end = 1772 * 256\n",
    "length = end - start\n",
    "print(m, length, start , end)\n",
    "norm_s = np.zeros((n, length))\n",
    "for i in np.arange(n):\n",
    "        norm_s[i,:] = sigbufs[i,start:end]\n",
    "        \n",
    "#getting 5 secs\n",
    "# data sampling rate is 256 and we want windows of 5 seconds\n",
    "k = int(length/256)-5\n",
    "print(k)\n",
    "\n",
    "for i in range(0, k):\n",
    "    seizure.append(norm_s[:,i*256:(i*256)+5*256])"
   ]
  },
  {
   "cell_type": "code",
   "execution_count": 10,
   "id": "e4362d74",
   "metadata": {},
   "outputs": [
    {
     "name": "stdout",
     "output_type": "stream",
     "text": [
      "921600 13056 259840 272896\n",
      "46\n"
     ]
    }
   ],
   "source": [
    "file_name = \"seizures\\chb01_16.edf\"\n",
    "f = pyedflib.EdfReader(file_name)\n",
    "n = 2\n",
    "signal_labels = f.getSignalLabels()\n",
    "sigbufs = np.zeros((n, f.getNSamples()[0]))\n",
    "for i in np.arange(n):\n",
    "        sigbufs[i, :] = f.readSignal(i+16)\n",
    "        \n",
    "#getting the seizure part\n",
    "m = f.getNSamples()[0]\n",
    "start = 1015 * 256\n",
    "end = 1066 * 256\n",
    "length = end - start\n",
    "print(m, length, start , end)\n",
    "norm_s = np.zeros((n, length))\n",
    "for i in np.arange(n):\n",
    "        norm_s[i,:] = sigbufs[i,start:end]\n",
    "        \n",
    "#getting 5 secs\n",
    "# data sampling rate is 256 and we want windows of 5 seconds\n",
    "k = int(length/256)-5\n",
    "print(k)\n",
    "\n",
    "for i in range(0, k):\n",
    "    seizure.append(norm_s[:,i*256:(i*256)+5*256])"
   ]
  },
  {
   "cell_type": "code",
   "execution_count": 11,
   "id": "7006619b",
   "metadata": {},
   "outputs": [
    {
     "name": "stdout",
     "output_type": "stream",
     "text": [
      "921600 23040 440320 463360\n",
      "85\n"
     ]
    }
   ],
   "source": [
    "file_name = \"seizures\\chb01_18.edf\"\n",
    "f = pyedflib.EdfReader(file_name)\n",
    "n = 2\n",
    "signal_labels = f.getSignalLabels()\n",
    "sigbufs = np.zeros((n, f.getNSamples()[0]))\n",
    "for i in np.arange(n):\n",
    "        sigbufs[i, :] = f.readSignal(i+16)\n",
    "        \n",
    "#getting the seizure part\n",
    "m = f.getNSamples()[0]\n",
    "start = 1720 * 256\n",
    "end = 1810 * 256\n",
    "length = end - start\n",
    "print(m, length, start , end)\n",
    "norm_s = np.zeros((n, length))\n",
    "for i in np.arange(n):\n",
    "        norm_s[i,:] = sigbufs[i,start:end]\n",
    "        \n",
    "#getting 5 secs\n",
    "# data sampling rate is 256 and we want windows of 5 seconds\n",
    "k = int(length/256)-5\n",
    "print(k)\n",
    "\n",
    "for i in range(0, k):\n",
    "    seizure.append(norm_s[:,i*256:(i*256)+5*256])"
   ]
  },
  {
   "cell_type": "code",
   "execution_count": 12,
   "id": "9dc56690",
   "metadata": {},
   "outputs": [
    {
     "name": "stdout",
     "output_type": "stream",
     "text": [
      "921600 23808 83712 107520\n",
      "88\n"
     ]
    }
   ],
   "source": [
    "file_name = \"seizures\\chb01_21.edf\"\n",
    "f = pyedflib.EdfReader(file_name)\n",
    "n = 2\n",
    "signal_labels = f.getSignalLabels()\n",
    "sigbufs = np.zeros((n, f.getNSamples()[0]))\n",
    "for i in np.arange(n):\n",
    "        sigbufs[i, :] = f.readSignal(i+16)\n",
    "        \n",
    "#getting the seizure part\n",
    "m = f.getNSamples()[0]\n",
    "start = 327 * 256\n",
    "end = 420 * 256\n",
    "length = end - start\n",
    "print(m, length, start , end)\n",
    "norm_s = np.zeros((n, length))\n",
    "for i in np.arange(n):\n",
    "        norm_s[i,:] = sigbufs[i,start:end]\n",
    "        \n",
    "#getting 5 secs\n",
    "# data sampling rate is 256 and we want windows of 5 seconds\n",
    "k = int(length/256)-5\n",
    "print(k)\n",
    "\n",
    "for i in range(0, k):\n",
    "    seizure.append(norm_s[:,i*256:(i*256)+5*256])"
   ]
  },
  {
   "cell_type": "code",
   "execution_count": 13,
   "id": "f3713197",
   "metadata": {},
   "outputs": [
    {
     "name": "stdout",
     "output_type": "stream",
     "text": [
      "595200 25856 476672 502528\n",
      "96\n"
     ]
    }
   ],
   "source": [
    "file_name = \"seizures\\chb01_26.edf\"\n",
    "f = pyedflib.EdfReader(file_name)\n",
    "n = 2\n",
    "signal_labels = f.getSignalLabels()\n",
    "sigbufs = np.zeros((n, f.getNSamples()[0]))\n",
    "for i in np.arange(n):\n",
    "        sigbufs[i, :] = f.readSignal(i+16)\n",
    "        \n",
    "#getting the seizure part\n",
    "m = f.getNSamples()[0]\n",
    "start = 1862 * 256\n",
    "end = 1963 * 256\n",
    "length = end - start\n",
    "print(m, length, start , end)\n",
    "norm_s = np.zeros((n, length))\n",
    "for i in np.arange(n):\n",
    "        norm_s[i,:] = sigbufs[i,start:end]\n",
    "        \n",
    "#getting 5 secs\n",
    "# data sampling rate is 256 and we want windows of 5 seconds\n",
    "k = int(length/256)-5\n",
    "print(k)\n",
    "\n",
    "for i in range(0, k):\n",
    "    seizure.append(norm_s[:,i*256:(i*256)+5*256])"
   ]
  },
  {
   "cell_type": "code",
   "execution_count": 14,
   "id": "bf3c2b85",
   "metadata": {},
   "outputs": [
    {
     "name": "stdout",
     "output_type": "stream",
     "text": [
      "245504 20992 33280 54272\n",
      "77\n"
     ]
    }
   ],
   "source": [
    "file_name = \"seizures\\chb02_16.edf\"\n",
    "f = pyedflib.EdfReader(file_name)\n",
    "n = 2\n",
    "signal_labels = f.getSignalLabels()\n",
    "sigbufs = np.zeros((n, f.getNSamples()[0]))\n",
    "for i in np.arange(n):\n",
    "        sigbufs[i, :] = f.readSignal(i+16)\n",
    "        \n",
    "#getting the seizure part\n",
    "m = f.getNSamples()[0]\n",
    "start = 130 * 256\n",
    "end = 212 * 256\n",
    "length = end - start\n",
    "print(m, length, start , end)\n",
    "norm_s = np.zeros((n, length))\n",
    "for i in np.arange(n):\n",
    "        norm_s[i,:] = sigbufs[i,start:end]\n",
    "        \n",
    "#getting 5 secs\n",
    "# data sampling rate is 256 and we want windows of 5 seconds\n",
    "k = int(length/256)-5\n",
    "print(k)\n",
    "\n",
    "for i in range(0, k):\n",
    "    seizure.append(norm_s[:,i*256:(i*256)+5*256])"
   ]
  },
  {
   "cell_type": "code",
   "execution_count": 15,
   "id": "3c7ab845",
   "metadata": {},
   "outputs": [
    {
     "name": "stdout",
     "output_type": "stream",
     "text": [
      "921600 20736 760832 781568\n",
      "76\n"
     ]
    }
   ],
   "source": [
    "file_name = \"seizures\\chb02_16+.edf\"\n",
    "f = pyedflib.EdfReader(file_name)\n",
    "n = 2\n",
    "signal_labels = f.getSignalLabels()\n",
    "sigbufs = np.zeros((n, f.getNSamples()[0]))\n",
    "for i in np.arange(n):\n",
    "        sigbufs[i, :] = f.readSignal(i+16)\n",
    "        \n",
    "#getting the seizure part\n",
    "m = f.getNSamples()[0]\n",
    "start = 2972 * 256\n",
    "end = 3053 * 256\n",
    "length = end - start\n",
    "print(m, length, start , end)\n",
    "norm_s = np.zeros((n, length))\n",
    "for i in np.arange(n):\n",
    "        norm_s[i,:] = sigbufs[i,start:end]\n",
    "        \n",
    "#getting 5 secs\n",
    "# data sampling rate is 256 and we want windows of 5 seconds\n",
    "k = int(length/256)-5\n",
    "print(k)\n",
    "\n",
    "for i in range(0, k):\n",
    "    seizure.append(norm_s[:,i*256:(i*256)+5*256])"
   ]
  },
  {
   "cell_type": "code",
   "execution_count": 16,
   "id": "de371f71",
   "metadata": {},
   "outputs": [
    {
     "name": "stdout",
     "output_type": "stream",
     "text": [
      "921600 2304 862464 864768\n",
      "4\n"
     ]
    }
   ],
   "source": [
    "file_name = \"seizures\\chb02_19.edf\"\n",
    "f = pyedflib.EdfReader(file_name)\n",
    "n = 2\n",
    "signal_labels = f.getSignalLabels()\n",
    "sigbufs = np.zeros((n, f.getNSamples()[0]))\n",
    "for i in np.arange(n):\n",
    "        sigbufs[i, :] = f.readSignal(i+16)\n",
    "        \n",
    "#getting the seizure part\n",
    "m = f.getNSamples()[0]\n",
    "start = 3369 * 256\n",
    "end = 3378 * 256\n",
    "length = end - start\n",
    "print(m, length, start , end)\n",
    "norm_s = np.zeros((n, length))\n",
    "for i in np.arange(n):\n",
    "        norm_s[i,:] = sigbufs[i,start:end]\n",
    "        \n",
    "#getting 5 secs\n",
    "# data sampling rate is 256 and we want windows of 5 seconds\n",
    "k = int(length/256)-5\n",
    "print(k)\n",
    "\n",
    "for i in range(0, k):\n",
    "    seizure.append(norm_s[:,i*256:(i*256)+5*256])"
   ]
  },
  {
   "cell_type": "code",
   "execution_count": 17,
   "id": "15f143bb",
   "metadata": {},
   "outputs": [
    {
     "name": "stdout",
     "output_type": "stream",
     "text": [
      "284\n"
     ]
    },
    {
     "data": {
      "text/plain": [
       "564"
      ]
     },
     "execution_count": 17,
     "metadata": {},
     "output_type": "execute_result"
    }
   ],
   "source": [
    "print(len(normal))\n",
    "len(seizure)"
   ]
  },
  {
   "cell_type": "code",
   "execution_count": 18,
   "id": "8cd340c9",
   "metadata": {},
   "outputs": [
    {
     "name": "stdout",
     "output_type": "stream",
     "text": [
      "(284, 2, 1280)\n",
      "(564, 2, 1280)\n",
      "(848, 2, 1280)\n"
     ]
    }
   ],
   "source": [
    "x_normal = np.array(normal)\n",
    "x_seizure = np.array(seizure)\n",
    "sampling_freq = 256 #based on info from website\n",
    "\n",
    "b, a = butter(3, [0.5,40], btype='bandpass',fs=sampling_freq)\n",
    "\n",
    "x_normal_filtered = np.array([lfilter(b,a,x_normal[ind,:]) for ind in range(x_normal.shape[0])])\n",
    "x_seizure_filtered = np.array([lfilter(b,a,x_seizure[ind,:]) for ind in range(x_seizure.shape[0])])\n",
    "print(x_normal.shape)\n",
    "print(x_seizure.shape)\n",
    "\n",
    "x_normal = x_normal_filtered\n",
    "x_seizure = x_seizure_filtered\n",
    "\n",
    "x_cnn = np.concatenate((x_normal,x_seizure))\n",
    "y_cnn = np.concatenate((np.zeros((284,1)),np.ones((564,1))))\n",
    "\n",
    "print(x_cnn.shape)"
   ]
  },
  {
   "cell_type": "code",
   "execution_count": 19,
   "id": "91272217",
   "metadata": {},
   "outputs": [],
   "source": [
    "x=[]\n",
    "for i in range(len(x_cnn)):\n",
    "    for j in range(len(x_cnn[i])):\n",
    "        x.append(x_cnn[i][j])\n",
    "np.concatenate((np.zeros((568,1)),np.ones((568,1))))\n",
    "x=np.array(x)\n",
    "y=np.concatenate((np.zeros((568,1)),np.ones((1128,1))))"
   ]
  },
  {
   "cell_type": "code",
   "execution_count": 20,
   "id": "96ab778d",
   "metadata": {},
   "outputs": [
    {
     "name": "stderr",
     "output_type": "stream",
     "text": [
      "<ipython-input-20-5432e08f35c1>:59: FutureWarning: Unlike other reduction functions (e.g. `skew`, `kurtosis`), the default behavior of `mode` typically preserves the axis it acts along. In SciPy 1.11.0, this behavior will change: the default value of `keepdims` will become False, the `axis` over which the statistic is taken will be eliminated, and the value None will no longer be accepted. Set `keepdims` to True or False to avoid this warning.\n",
      "  mode = stats.mode(x[i])\n"
     ]
    },
    {
     "name": "stdout",
     "output_type": "stream",
     "text": [
      "(1696, 1280)\n",
      "(1696, 1)\n",
      "done\n"
     ]
    }
   ],
   "source": [
    "#my code from phase 2\n",
    "SVCArrayAcc = []\n",
    "KNNArrayAcc = []\n",
    "forestArrayAcc = []\n",
    "SVCF1Array = []\n",
    "KNNF1Array = []\n",
    "forestF1Array = []\n",
    "presSVCArray = []\n",
    "presKNNArray = []\n",
    "pressForestArray = []\n",
    "recallSVCArray = []\n",
    "recallKNNArray = []\n",
    "recallForestArray = []\n",
    "confusionArray = []\n",
    "# arrays from phase2:\n",
    "modeArray = []\n",
    "modeArray1D = []\n",
    "meanArray = []\n",
    "meanArray1D = []\n",
    "medienArray = []\n",
    "medienArray1D = []\n",
    "varianceArray = []\n",
    "varianceArray1D = []\n",
    "sdArray = []\n",
    "sdArray1D = []\n",
    "kurtosisArray = []\n",
    "kurtosisArray1D = []\n",
    "cvArray = []\n",
    "cvArray1D = []\n",
    "skewnessArray = []\n",
    "skewnessArray1D = []\n",
    "minArray = []\n",
    "minArray1D = []\n",
    "maxArray = []\n",
    "maxArray1D = []\n",
    "PTPArray = []\n",
    "PTPArray1D = []\n",
    "TWOPPArray = []\n",
    "TWOPPArray1D = []\n",
    "PPSArray = []\n",
    "PPSArray1D = []\n",
    "shanonarray = []\n",
    "shanonarray1D = []\n",
    "reyniArray = []\n",
    "reyniArray1D = []\n",
    "avarageF1Array = []\n",
    "arrayForFinalClassification = []\n",
    "f1dict = {}\n",
    "f2dict = {}\n",
    "index = 1\n",
    "numberOfData=1696\n",
    "averageMode = 'binary'\n",
    "finalx = []\n",
    "seed=57\n",
    "\n",
    "for i in range(numberOfData):\n",
    "    newArray2 = []\n",
    "    # mode\n",
    "    mode = stats.mode(x[i])\n",
    "    newArray = []\n",
    "    newArray.append(mode[0][0])\n",
    "    # a 1D array of all modes\n",
    "    modeArray1D.append(mode[0][0])\n",
    "    newArray2.append(mode[0][0])\n",
    "    # a 2D array of all modes cause classifications need 2D arrays\n",
    "    modeArray.append(newArray)\n",
    "\n",
    "    # median\n",
    "    median = np.median(x[i])\n",
    "    newArray = []\n",
    "    newArray2.append(median)\n",
    "    medienArray1D.append(median)\n",
    "    newArray.append(median)\n",
    "    medienArray.append(newArray)\n",
    "    # mean\n",
    "    mean = np.mean(x[i], dtype=np.float64)\n",
    "    newArray = []\n",
    "    newArray2.append(mean)\n",
    "    meanArray1D.append(mean)\n",
    "    newArray.append(mean)\n",
    "    meanArray.append(newArray)\n",
    "    # variance\n",
    "    variance = np.var(x[i], dtype=np.float64)\n",
    "    newArray = []\n",
    "    newArray2.append(variance)\n",
    "    varianceArray1D.append(variance)\n",
    "    newArray.append(variance)\n",
    "    varianceArray.append(newArray)\n",
    "    # standard deviation\n",
    "    newArray = []\n",
    "    sd = np.std(x[i], dtype=np.float64)\n",
    "    newArray2.append(sd)\n",
    "    newArray.append(sd)\n",
    "    sdArray1D.append(sd)\n",
    "    sdArray.append(newArray)\n",
    "    # kurtosis\n",
    "    kurtosis = stats.kurtosis(x[i])\n",
    "    newArray = []\n",
    "    newArray2.append(kurtosis)\n",
    "    kurtosisArray1D.append(kurtosis)\n",
    "    newArray.append(kurtosis)\n",
    "    kurtosisArray.append(newArray)\n",
    "    # coefficient of variation\n",
    "    newArray = []\n",
    "    CV = np.std(x[i], dtype=np.float64) / np.mean(x[i], dtype=np.float64)\n",
    "    newArray.append(CV)\n",
    "    newArray2.append(CV)\n",
    "    cvArray1D.append(CV)\n",
    "    cvArray.append(newArray)\n",
    "    # skewness\n",
    "    newArray = []\n",
    "    skewness = stats.skew(x[i])\n",
    "    newArray2.append(skewness)\n",
    "    newArray.append(skewness)\n",
    "    skewnessArray1D.append(skewness)\n",
    "    skewnessArray.append(newArray)\n",
    "    # min\n",
    "    newArray = []\n",
    "    minAmount = min(x[i])\n",
    "    newArray.append(minAmount)\n",
    "    newArray2.append(minAmount)\n",
    "    minArray1D.append(minAmount)\n",
    "    minArray.append(newArray)\n",
    "    # max\n",
    "    newArray = []\n",
    "    maxAmount = max(x[i])\n",
    "    newArray.append(maxAmount)\n",
    "    newArray2.append(maxAmount)\n",
    "    maxArray1D.append(maxAmount)\n",
    "    maxArray.append(newArray)\n",
    "    # PTP\n",
    "    newArray = []\n",
    "    distance = max(x[i]) - min(x[i])\n",
    "    PTPArray1D.append(distance)\n",
    "    newArray.append(distance)\n",
    "    newArray2.append(distance)\n",
    "    PTPArray.append(newArray)\n",
    "    # TWOPP\n",
    "    newArray = []\n",
    "    resultMaxArray = np.where(x[i] == np.amax(x[i]))\n",
    "    resultMax = resultMaxArray[0][0]\n",
    "    maxTime = resultMax / 173.61\n",
    "    resultMinArray = np.where(x[i] == np.amin(x[i]))\n",
    "    resultMin = resultMinArray[0][0]\n",
    "    minTime = resultMin / 173.61\n",
    "    newArray.append(maxTime - minTime)\n",
    "    newArray2.append(maxTime - minTime)\n",
    "    TWOPPArray1D.append(maxTime - minTime)\n",
    "    TWOPPArray.append(newArray)\n",
    "    # PPS\n",
    "    newArray = []\n",
    "    PPS = distance / (maxTime - minTime)\n",
    "    newArray.append(PPS)\n",
    "    newArray2.append(PPS)\n",
    "    PPSArray1D.append(PPS)\n",
    "    PPSArray.append(newArray)\n",
    "    # shanon\n",
    "    newArray = []\n",
    "    shanonduct = {}\n",
    "    for j in x[i]:\n",
    "        if j in shanonduct:\n",
    "            shanonduct[j] = shanonduct[j] + 1\n",
    "        else:\n",
    "            shanonduct[j] = 1\n",
    "    sumShanon = 0\n",
    "    for key in shanonduct:\n",
    "        sumShanon += shanonduct[key]\n",
    "    # print(sumShanon)\n",
    "    shanon = 0\n",
    "    for key in shanonduct:\n",
    "        shanon += ((shanonduct[key]) / sumShanon) * math.log((shanonduct[key]) / sumShanon, 2)\n",
    "    newArray.append(shanon * (-1))\n",
    "    shanonarray1D.append(shanon * (-1))\n",
    "    newArray2.append(shanon * (-1))\n",
    "    shanonarray.append(newArray)\n",
    "    # log Energy\n",
    "    # loge = 0\n",
    "    # for j in x[i]:\n",
    "    #     print(j * j)\n",
    "    #     loge += math.log(j * j, 2)\n",
    "    # newArray.append(loge)\n",
    "    # Renyi\n",
    "    newArray = []\n",
    "    renyiSum = 0\n",
    "    for key in shanonduct:\n",
    "        renyiSum += ((shanonduct[key]) / sumShanon) * ((shanonduct[key]) / sumShanon)\n",
    "    renyi = math.log(renyiSum, 2)\n",
    "    newArray.append(renyi)\n",
    "    newArray2.append(renyi)\n",
    "    reyniArray1D.append(renyi)\n",
    "    reyniArray.append(newArray)\n",
    "    arrayForFinalClassification.append(newArray2)\n",
    "fBonusdict = {}\n",
    "f2dict[0] = modeArray1D\n",
    "f2dict[1] = medienArray1D\n",
    "f2dict[2] = meanArray1D\n",
    "f2dict[3] = varianceArray1D\n",
    "f2dict[4] = sdArray1D\n",
    "f2dict[5] = kurtosisArray1D\n",
    "f2dict[6] = cvArray1D\n",
    "f2dict[7] = skewnessArray1D\n",
    "f2dict[8] = minArray1D\n",
    "f2dict[9] = maxArray1D\n",
    "f2dict[10] = PTPArray1D\n",
    "f2dict[11] = TWOPPArray1D\n",
    "f2dict[12] = PPSArray1D\n",
    "f2dict[13] = shanonarray1D\n",
    "f2dict[14] = reyniArray1D\n",
    "\n",
    "fBonusdict[0] = modeArray1D\n",
    "fBonusdict[1] = medienArray1D\n",
    "fBonusdict[2] = meanArray1D\n",
    "fBonusdict[3] = varianceArray1D\n",
    "fBonusdict[4] = sdArray1D\n",
    "fBonusdict[5] = kurtosisArray1D\n",
    "fBonusdict[6] = cvArray1D\n",
    "fBonusdict[7] = skewnessArray1D\n",
    "fBonusdict[8] = minArray1D\n",
    "fBonusdict[9] = maxArray1D\n",
    "fBonusdict[10] = PTPArray1D\n",
    "fBonusdict[11] = TWOPPArray1D\n",
    "fBonusdict[12] = PPSArray1D\n",
    "fBonusdict[13] = shanonarray1D\n",
    "fBonusdict[14] = reyniArray1D\n",
    "\n",
    "print(x.shape)\n",
    "print(y.shape)\n",
    "finalxNump = np.array(finalx)\n",
    "finalArrays = []\n",
    "finalArrays.append(modeArray)\n",
    "finalArrays.append(medienArray)\n",
    "finalArrays.append(meanArray)\n",
    "finalArrays.append(varianceArray)\n",
    "finalArrays.append(sdArray)\n",
    "finalArrays.append(kurtosisArray)\n",
    "finalArrays.append(cvArray)\n",
    "finalArrays.append(skewnessArray)\n",
    "finalArrays.append(minArray)\n",
    "finalArrays.append(maxArray)\n",
    "finalArrays.append(PTPArray)\n",
    "finalArrays.append(TWOPPArray)\n",
    "finalArrays.append(PPSArray)\n",
    "finalArrays.append(shanonarray)\n",
    "finalArrays.append(reyniArray)\n",
    "n_splits = 5\n",
    "indexOfIncorrectsDict = {}\n",
    "cv = KFold(n_splits, random_state=seed, shuffle=True)\n",
    "for i in range(15):\n",
    "    indexOfIncorrectsDict[i] = {}\n",
    "    finalxNump = []\n",
    "    finalxNump = finalArrays[i]\n",
    "    finalxNump = np.array(finalxNump)\n",
    "    # normalize\n",
    "    scaler = MinMaxScaler(feature_range=(0, 1))\n",
    "    finalxNump = scaler.fit_transform(finalxNump)\n",
    "    # print(\"shape: \", finalxNump.shape)\n",
    "    recallForestArray = []\n",
    "    pressForestArray = []\n",
    "    forestArrayAcc = []\n",
    "    forestF1Array = []\n",
    "    indexOfIncorrects = 0\n",
    "    for train_index, test_index in cv.split(finalxNump):\n",
    "        x_train, y_train = finalxNump[train_index], y[train_index]\n",
    "        x_test, y_test = finalxNump[test_index], y[test_index]\n",
    "        # x_train, x_test, y_train, y_test = train_test_split(finalxNump, y, test_size=0.20)\n",
    "        indexOfIncorrectsDict[i][indexOfIncorrects] = []\n",
    "        rf = RandomForestClassifier(n_estimators=1000, random_state=0)\n",
    "        # rf=DecisionTreeClassifier(max_depth=4,criterion='entropy',max_features=0.6,splitter='best')\n",
    "        rf.fit(x_train, y_train.ravel())\n",
    "        pred_forest = rf.predict(x_test)\n",
    "        for j in range(len(pred_forest)):\n",
    "            if pred_forest[j] != y_test[j]:\n",
    "                indexOfIncorrectsDict[i][indexOfIncorrects].append(j)\n",
    "        presForest = precision_score(y_test, pred_forest, zero_division=1, average=averageMode)\n",
    "        recallForest = recall_score(y_test, pred_forest, zero_division=1, average=averageMode)\n",
    "        recallForestArray.append(recallForest)\n",
    "        pressForestArray.append(presForest)\n",
    "        rfAcc = accuracy_score(y_test, pred_forest)\n",
    "        forestArrayAcc.append(rfAcc)\n",
    "        forestF1Array.append((2 * presForest * recallForest) / (presForest + recallForest))\n",
    "        indexOfIncorrects += 1\n",
    "    f1dict[i] = sum(forestF1Array) / len(forestF1Array)\n",
    "keyMax = max(f1dict.keys(), key=f1dict.get)\n",
    "corrdict = {}\n",
    "finalxNump = finalArrays[keyMax]\n",
    "del fBonusdict[keyMax]\n",
    "finalBonusIndexes = []\n",
    "finalBonusIndexes.append(keyMax)\n",
    "bonusIndex = 1\n",
    "lastIncorrectIndexDict = indexOfIncorrectsDict[keyMax]\n",
    "checkIndexDict = indexOfIncorrectsDict[keyMax]\n",
    "for i in range(14):\n",
    "    newIncorrectIndexDict = {}\n",
    "    keysList = list(fBonusdict.keys())\n",
    "    maxIndex = 0\n",
    "    maxChanges = -1000000\n",
    "    for j in keysList:\n",
    "        for k in range(numberOfData):\n",
    "            finalxNump[k].append(fBonusdict[j][k])\n",
    "        finalxNumpTest = np.array(finalxNump)\n",
    "        scaler = MinMaxScaler(feature_range=(0, 1))\n",
    "        indexOfIncorrects = 0\n",
    "        fixedData = 0\n",
    "        newIncorrectIndexDict[j] = {}\n",
    "        finalxNumpTest = scaler.fit_transform(finalxNumpTest)\n",
    "        for train_index, test_index in cv.split(finalxNumpTest):\n",
    "            x_train, y_train = finalxNumpTest[train_index], y[train_index]\n",
    "            x_test, y_test = finalxNumpTest[test_index], y[test_index]\n",
    "            newIncorrectIndexDict[j][indexOfIncorrects] = []\n",
    "            rf = RandomForestClassifier(n_estimators=1000, random_state=0)\n",
    "            # rf = DecisionTreeClassifier(max_depth=4, criterion='entropy', max_features=0.6, splitter='best')\n",
    "            rf.fit(x_train, y_train.ravel())\n",
    "            pred_forest = rf.predict(x_test)\n",
    "            for z in range(len(pred_forest)):\n",
    "                if pred_forest[z] == y_test[z]:\n",
    "\n",
    "                    if z in lastIncorrectIndexDict[indexOfIncorrects]:\n",
    "                        # print(\"yes for z=\",z)\n",
    "                        fixedData += 1\n",
    "                else:\n",
    "                    # print(\"in j=\", j, \" and indexOfIncorrects=\", indexOfIncorrects, \"z= \", z)\n",
    "                    if z not in lastIncorrectIndexDict[indexOfIncorrects]:\n",
    "                        # print(\"no for z=\",z)\n",
    "                        fixedData -= 1\n",
    "                    newIncorrectIndexDict[j][indexOfIncorrects].append(z)\n",
    "            indexOfIncorrects += 1\n",
    "        # print(\"fixed data for j=\",j,\" is: \",fixedData)\n",
    "        if fixedData > maxChanges:\n",
    "            maxChanges = fixedData\n",
    "            maxIndex = j\n",
    "        for k in range(numberOfData):\n",
    "            del finalxNump[k][bonusIndex]\n",
    "    if maxChanges >= 1:\n",
    "        finalBonusIndexes.append(maxIndex)\n",
    "        # print(\"max changes:\", maxChanges, \"index:\", maxIndex)\n",
    "        for k in range(numberOfData):\n",
    "            finalxNump[k].append(fBonusdict[maxIndex][k])\n",
    "        lastIncorrectIndexDict = newIncorrectIndexDict[maxIndex]\n",
    "        bonusIndex += 1\n",
    "        del fBonusdict[maxIndex]\n",
    "    else:\n",
    "        break\n",
    "for i in range(15):\n",
    "    if 14 - i not in finalBonusIndexes:\n",
    "        for j in range(numberOfData):\n",
    "            arrayForFinalClassification[j].pop(14 - i)\n",
    "#arrayForFinalClassification = np.array(arrayForFinalClassification)\n",
    "#print(arrayForFinalClassification.shape)\n",
    "print(\"done\")"
   ]
  },
  {
   "cell_type": "code",
   "execution_count": 21,
   "id": "7470cb98",
   "metadata": {},
   "outputs": [
    {
     "name": "stdout",
     "output_type": "stream",
     "text": [
      "(848, 2, 1280)\n",
      "(848, 1280, 2)\n",
      "(678, 1280, 2)\n",
      "done\n"
     ]
    }
   ],
   "source": [
    "from tensorflow.keras.models import Sequential\n",
    "test_portion=0.2\n",
    "numberOfDataCnn=848\n",
    "numberOfTest=numberOfDataCnn*0.2\n",
    "numberOfTrain=numberOfDataCnn*0.8\n",
    "shuffleSize=380\n",
    "BATCH_SIZE = 256\n",
    "BUFFER_SIZE = 1000\n",
    "seed=57\n",
    "EPOCHS=12\n",
    "input_size = (1280,2)\n",
    "maxval = np.amax(x_cnn)\n",
    "newX_cnn=[]\n",
    "print(x_cnn.shape)\n",
    "for i in range(len(x_cnn)):\n",
    "    newArray=[]\n",
    "    for j in range(len(x_cnn[i][0])):\n",
    "        #print(len(x_cnn[i]))\n",
    "        newArray2=[]\n",
    "        newArray2.append(x_cnn[i][0][j])\n",
    "        newArray2.append(x_cnn[i][1][j])\n",
    "        newArray.append(newArray2)\n",
    "    newX_cnn.append(newArray)\n",
    "newX_cnn=np.array(newX_cnn)\n",
    "#x_cnn=np.array(newX_cnn)\n",
    "print(newX_cnn.shape)\n",
    "x_train, x_test, y_train, y_test = train_test_split(newX_cnn,y_cnn,random_state=seed,test_size=test_portion)\n",
    "x_train, x_test = np.array(x_train, np.float32), np.array(x_test, np.float32)\n",
    "print(x_train.shape)\n",
    "#x_train, x_test = x_train.reshape((numberOfTrain,2,1280)), x_test.reshape((numberOfTest,2,1280))\n",
    "x_train, x_test = x_train / maxval, x_test / maxval\n",
    "\n",
    "y_train = tf.one_hot(y_train,2)\n",
    "y_test = tf.one_hot(y_test,2)\n",
    "y_trainNew=[]\n",
    "y_testNew=[]\n",
    "for i in range(len(y_train)):\n",
    "    newArray=[];\n",
    "    for j in range(len(y_train[i][0])):\n",
    "        newArray.append(y_train[i][0][j])    \n",
    "    y_trainNew.append(newArray)\n",
    "\n",
    "for i in range(len(y_test)):\n",
    "    newArray=[];\n",
    "    for j in range(len(y_test[i][0])):\n",
    "        newArray.append(y_test[i][0][j])    \n",
    "    y_testNew.append(newArray)\n",
    "    \n",
    "y_trainNew=np.array(y_trainNew)\n",
    "y_testNew=np.array(y_testNew)\n",
    "\n",
    "\n",
    "train_data = tf.data.Dataset.from_tensor_slices((x_train, y_trainNew))\n",
    "train_data = train_data.shuffle(shuffleSize).batch(BATCH_SIZE)\n",
    "test_data = tf.data.Dataset.from_tensor_slices((x_test, y_testNew))\n",
    "test_data = test_data.shuffle(shuffleSize).batch(BATCH_SIZE)\n",
    "\n",
    "inputs = tf.keras.Input(shape=input_size)\n",
    "#model = Sequential()\n",
    "#model.add(layers.Conv1D(filters=64, kernel_size=3, activation='relu', input_shape=(1280,2)))\n",
    "#model.add(layers.Conv1D(filters=64, kernel_size=3, activation='relu'))\n",
    "#model.add(layers.Conv1D(filters=64, kernel_size=3, activation='relu'))\n",
    "#model.add(layers.MaxPooling1D(pool_size=2))\n",
    "#model.add(layers.MaxPooling1D(pool_size=2))\n",
    "#model.add(layers.Flatten())\n",
    "#model.add(layers.Dense(256, activation='relu', name=\"feature\"))\n",
    "#model.add(layers.Dense(2, activation='softmax'))\n",
    "\n",
    "\n",
    "#model = Sequential()\n",
    "model=layers.Conv1D(filters=64, kernel_size=3, activation='relu')(inputs)\n",
    "model=layers.Conv1D(filters=64, kernel_size=3, activation='relu')(model)\n",
    "model=layers.Conv1D(filters=64, kernel_size=3, activation='relu')(model)\n",
    "model=layers.MaxPooling1D(pool_size=2)(model)\n",
    "model=layers.MaxPooling1D(pool_size=2)(model)\n",
    "model=layers.Flatten()(model)\n",
    "model=layers.Dense(256, activation='relu')(model)\n",
    "model=layers.Dense(64, activation='relu', name=\"feature\")(model)\n",
    "\n",
    "outputs=layers.Dense(2, activation='softmax',name=\"classification\")(model)\n",
    "model = tf.keras.Model(inputs, outputs)\n",
    "print(\"done\")"
   ]
  },
  {
   "cell_type": "code",
   "execution_count": 22,
   "id": "507c7dc4",
   "metadata": {},
   "outputs": [
    {
     "name": "stdout",
     "output_type": "stream",
     "text": [
      "Model: \"model\"\n",
      "_________________________________________________________________\n",
      " Layer (type)                Output Shape              Param #   \n",
      "=================================================================\n",
      " input_1 (InputLayer)        [(None, 1280, 2)]         0         \n",
      "                                                                 \n",
      " conv1d (Conv1D)             (None, 1278, 64)          448       \n",
      "                                                                 \n",
      " conv1d_1 (Conv1D)           (None, 1276, 64)          12352     \n",
      "                                                                 \n",
      " conv1d_2 (Conv1D)           (None, 1274, 64)          12352     \n",
      "                                                                 \n",
      " max_pooling1d (MaxPooling1D  (None, 637, 64)          0         \n",
      " )                                                               \n",
      "                                                                 \n",
      " max_pooling1d_1 (MaxPooling  (None, 318, 64)          0         \n",
      " 1D)                                                             \n",
      "                                                                 \n",
      " flatten (Flatten)           (None, 20352)             0         \n",
      "                                                                 \n",
      " dense (Dense)               (None, 256)               5210368   \n",
      "                                                                 \n",
      " feature (Dense)             (None, 64)                16448     \n",
      "                                                                 \n",
      " classification (Dense)      (None, 2)                 130       \n",
      "                                                                 \n",
      "=================================================================\n",
      "Total params: 5,252,098\n",
      "Trainable params: 5,252,098\n",
      "Non-trainable params: 0\n",
      "_________________________________________________________________\n"
     ]
    }
   ],
   "source": [
    "base_learning_rate = 0.0001\n",
    "model.compile(optimizer=tf.keras.optimizers.Adam(learning_rate=base_learning_rate),\n",
    "              loss={'classification': tf.keras.losses.CategoricalCrossentropy()},\n",
    "              metrics=['accuracy'])\n",
    "model.summary()"
   ]
  },
  {
   "cell_type": "code",
   "execution_count": 23,
   "id": "aef389c6",
   "metadata": {},
   "outputs": [
    {
     "name": "stdout",
     "output_type": "stream",
     "text": [
      "Epoch 1/12\n",
      "3/3 [==============================] - 3s 783ms/step - loss: 0.6768 - accuracy: 0.6313 - val_loss: 0.6382 - val_accuracy: 0.6412\n",
      "Epoch 2/12\n",
      "3/3 [==============================] - 2s 698ms/step - loss: 0.6172 - accuracy: 0.6711 - val_loss: 0.5794 - val_accuracy: 0.6412\n",
      "Epoch 3/12\n",
      "3/3 [==============================] - 2s 753ms/step - loss: 0.5562 - accuracy: 0.6711 - val_loss: 0.5282 - val_accuracy: 0.6412\n",
      "Epoch 4/12\n",
      "3/3 [==============================] - 2s 747ms/step - loss: 0.5058 - accuracy: 0.6711 - val_loss: 0.4964 - val_accuracy: 0.6412\n",
      "Epoch 5/12\n",
      "3/3 [==============================] - 2s 702ms/step - loss: 0.4716 - accuracy: 0.6711 - val_loss: 0.4753 - val_accuracy: 0.6412\n",
      "Epoch 6/12\n",
      "3/3 [==============================] - 2s 729ms/step - loss: 0.4488 - accuracy: 0.6711 - val_loss: 0.4552 - val_accuracy: 0.6412\n",
      "Epoch 7/12\n",
      "3/3 [==============================] - 2s 711ms/step - loss: 0.4280 - accuracy: 0.6711 - val_loss: 0.4317 - val_accuracy: 0.6412\n",
      "Epoch 8/12\n",
      "3/3 [==============================] - 2s 715ms/step - loss: 0.4045 - accuracy: 0.6711 - val_loss: 0.4054 - val_accuracy: 0.6412\n",
      "Epoch 9/12\n",
      "3/3 [==============================] - 2s 717ms/step - loss: 0.3806 - accuracy: 0.6711 - val_loss: 0.3799 - val_accuracy: 0.6412\n",
      "Epoch 10/12\n",
      "3/3 [==============================] - 2s 709ms/step - loss: 0.3576 - accuracy: 0.6711 - val_loss: 0.3584 - val_accuracy: 0.6412\n",
      "Epoch 11/12\n",
      "3/3 [==============================] - 2s 730ms/step - loss: 0.3389 - accuracy: 0.6711 - val_loss: 0.3411 - val_accuracy: 0.6412\n",
      "Epoch 12/12\n",
      "3/3 [==============================] - 2s 717ms/step - loss: 0.3238 - accuracy: 0.6711 - val_loss: 0.3271 - val_accuracy: 0.6412\n"
     ]
    }
   ],
   "source": [
    "history = model.fit(train_data,\n",
    "                    epochs=EPOCHS,\n",
    "                    validation_data=test_data)"
   ]
  },
  {
   "cell_type": "code",
   "execution_count": 24,
   "id": "13614339",
   "metadata": {
    "scrolled": true
   },
   "outputs": [
    {
     "name": "stdout",
     "output_type": "stream",
     "text": [
      "27/27 [==============================] - 1s 29ms/step\n",
      "(848, 64)\n"
     ]
    },
    {
     "data": {
      "image/png": "[encoded data removed]",
      "text/plain": [
       "<Figure size 432x288 with 1 Axes>"
      ]
     },
     "metadata": {
      "needs_background": "light"
     },
     "output_type": "display_data"
    },
    {
     "data": {
      "image/png": "[encoded data removed]",
      "text/plain": [
       "<Figure size 432x288 with 1 Axes>"
      ]
     },
     "metadata": {
      "needs_background": "light"
     },
     "output_type": "display_data"
    }
   ],
   "source": [
    "new_Model=tf.keras.Model(inputs, outputs=model.get_layer(\"feature\").output)\n",
    "cnn_feature_array=new_Model.predict(newX_cnn)\n",
    "print(cnn_feature_array.shape)\n",
    "import matplotlib.pyplot as plt\n",
    "\n",
    "# summarize history for accuracy\n",
    "plt.plot(history.history['accuracy'])\n",
    "plt.plot(history.history['val_accuracy'])\n",
    "plt.title('model accuracy')\n",
    "plt.ylabel('accuracy')\n",
    "plt.xlabel('epoch')\n",
    "plt.legend(['Train', 'Validation'], loc='upper left')\n",
    "plt.show()\n",
    "# summarize history for loss\n",
    "plt.plot(history.history['loss'])\n",
    "plt.plot(history.history['val_loss'])\n",
    "plt.title('model loss')\n",
    "plt.ylabel('loss')\n",
    "plt.xlabel('epoch')\n",
    "plt.legend(['Train', 'Validation'], loc='upper left')\n",
    "plt.show()"
   ]
  },
  {
   "cell_type": "code",
   "execution_count": 25,
   "id": "7cdda6e9",
   "metadata": {},
   "outputs": [
    {
     "name": "stdout",
     "output_type": "stream",
     "text": [
      "(1696, 68)\n"
     ]
    }
   ],
   "source": [
    "for i in range(len(cnn_feature_array)):\n",
    "    #print(len(arrayForFinalClassification[i*2]))\n",
    "    arrayForFinalClassification[i*2].extend((cnn_feature_array.tolist())[i])\n",
    "    arrayForFinalClassification[(i*2)+1].extend((cnn_feature_array.tolist())[i])\n",
    "arrayForFinalClassification = np.array(arrayForFinalClassification)\n",
    "print(arrayForFinalClassification.shape)"
   ]
  },
  {
   "cell_type": "code",
   "execution_count": 27,
   "id": "65547839",
   "metadata": {},
   "outputs": [
    {
     "name": "stdout",
     "output_type": "stream",
     "text": [
      "random forest\n",
      "Confusion Matrix:\n"
     ]
    },
    {
     "name": "stderr",
     "output_type": "stream",
     "text": [
      "c:\\users\\lenovo\\appdata\\local\\programs\\python\\python38\\lib\\site-packages\\sklearn\\cluster\\_kmeans.py:870: FutureWarning: The default value of `n_init` will change from 10 to 'auto' in 1.4. Set the value of `n_init` explicitly to suppress the warning\n",
      "  warnings.warn(\n"
     ]
    },
    {
     "name": "stdout",
     "output_type": "stream",
     "text": [
      "[[118   0]\n",
      " [  0 222]]\n"
     ]
    },
    {
     "data": {
      "image/png": "[encoded data removed]",
      "text/plain": [
       "<Figure size 432x288 with 1 Axes>"
      ]
     },
     "metadata": {
      "needs_background": "light"
     },
     "output_type": "display_data"
    },
    {
     "name": "stderr",
     "output_type": "stream",
     "text": [
      "c:\\users\\lenovo\\appdata\\local\\programs\\python\\python38\\lib\\site-packages\\sklearn\\cluster\\_kmeans.py:870: FutureWarning: The default value of `n_init` will change from 10 to 'auto' in 1.4. Set the value of `n_init` explicitly to suppress the warning\n",
      "  warnings.warn(\n"
     ]
    },
    {
     "name": "stdout",
     "output_type": "stream",
     "text": [
      "[[122   0]\n",
      " [  1 216]]\n"
     ]
    },
    {
     "data": {
      "image/png": "[encoded data removed]",
      "text/plain": [
       "<Figure size 432x288 with 1 Axes>"
      ]
     },
     "metadata": {
      "needs_background": "light"
     },
     "output_type": "display_data"
    },
    {
     "name": "stderr",
     "output_type": "stream",
     "text": [
      "c:\\users\\lenovo\\appdata\\local\\programs\\python\\python38\\lib\\site-packages\\sklearn\\cluster\\_kmeans.py:870: FutureWarning: The default value of `n_init` will change from 10 to 'auto' in 1.4. Set the value of `n_init` explicitly to suppress the warning\n",
      "  warnings.warn(\n"
     ]
    },
    {
     "name": "stdout",
     "output_type": "stream",
     "text": [
      "[[106   0]\n",
      " [  0 233]]\n"
     ]
    },
    {
     "data": {
      "image/png": "[encoded data removed]",
      "text/plain": [
       "<Figure size 432x288 with 1 Axes>"
      ]
     },
     "metadata": {
      "needs_background": "light"
     },
     "output_type": "display_data"
    },
    {
     "name": "stderr",
     "output_type": "stream",
     "text": [
      "c:\\users\\lenovo\\appdata\\local\\programs\\python\\python38\\lib\\site-packages\\sklearn\\cluster\\_kmeans.py:870: FutureWarning: The default value of `n_init` will change from 10 to 'auto' in 1.4. Set the value of `n_init` explicitly to suppress the warning\n",
      "  warnings.warn(\n"
     ]
    },
    {
     "name": "stdout",
     "output_type": "stream",
     "text": [
      "[[112   0]\n",
      " [  1 226]]\n"
     ]
    },
    {
     "data": {
      "image/png": "[encoded data removed]",
      "text/plain": [
       "<Figure size 432x288 with 1 Axes>"
      ]
     },
     "metadata": {
      "needs_background": "light"
     },
     "output_type": "display_data"
    },
    {
     "name": "stderr",
     "output_type": "stream",
     "text": [
      "c:\\users\\lenovo\\appdata\\local\\programs\\python\\python38\\lib\\site-packages\\sklearn\\cluster\\_kmeans.py:870: FutureWarning: The default value of `n_init` will change from 10 to 'auto' in 1.4. Set the value of `n_init` explicitly to suppress the warning\n",
      "  warnings.warn(\n"
     ]
    },
    {
     "name": "stdout",
     "output_type": "stream",
     "text": [
      "[[110   0]\n",
      " [  0 229]]\n"
     ]
    },
    {
     "data": {
      "image/png": "[encoded data removed]",
      "text/plain": [
       "<Figure size 432x288 with 1 Axes>"
      ]
     },
     "metadata": {
      "needs_background": "light"
     },
     "output_type": "display_data"
    },
    {
     "name": "stdout",
     "output_type": "stream",
     "text": [
      "average accuracy: 0.9988200589970502\n",
      "average precision: 1.0\n",
      "average recall 0.9981972837451025\n",
      "average F1 0.9990966051318131\n",
      "The time of execution of above program is : 2304000 ms\n"
     ]
    }
   ],
   "source": [
    "scaler = MinMaxScaler(feature_range=(0, 1))\n",
    "arrayForFinalClassification = scaler.fit_transform(arrayForFinalClassification)\n",
    "#\n",
    "# unify3class()\n",
    "n_splits = 5\n",
    "cv = KFold(n_splits, random_state=seed, shuffle=True)\n",
    "recallForestArray = []\n",
    "pressForestArray = []\n",
    "forestArrayAcc = []\n",
    "forestF1Array = []\n",
    "\n",
    "print(\"random forest\")\n",
    "print(\"Confusion Matrix:\")\n",
    "\n",
    "for train_index, test_index in cv.split(arrayForFinalClassification):\n",
    "    x_train, y_train = arrayForFinalClassification[train_index], y[train_index]\n",
    "    x_test, y_test = arrayForFinalClassification[test_index], y[test_index]\n",
    "    # print(x_test.shape)\n",
    "    # rf = SVC(kernel='linear')\n",
    "    # rf.fit(x_train, y_train.ravel())\n",
    "    # pred_forest = rf.predict(x_test)\n",
    "    # presForest = precision_score(y_test, pred_forest, zero_division=1)\n",
    "    # recallForest = recall_score(y_test, pred_forest, zero_division=1)\n",
    "    # recallForestArray.append(recallForest)\n",
    "    # pressForestArray.append(presForest)\n",
    "    # rfAcc = accuracy_score(y_test, pred_forest)\n",
    "    # forestArrayAcc.append(rfAcc)\n",
    "    # forestF1Array.append((2 * presForest * recallForest) / (presForest + recallForest))\n",
    "\n",
    "    clusterNumbers = 1\n",
    "    # make clusters out of train data\n",
    "    kmeans = KMeans(n_clusters=clusterNumbers, random_state=0).fit(x_train)\n",
    "    labels = kmeans.labels_\n",
    "    labels = labels.tolist()\n",
    "    labelsDic = {}\n",
    "    labelsDicY = {}\n",
    "    # append each train data to the coresponding array that is in dictionaries above with their label as their index\n",
    "    for i in range(len(labels)):\n",
    "        if labels[i] in labelsDic.keys():\n",
    "            labelsDic[labels[i]].append(x_train[i])\n",
    "            labelsDicY[labels[i]].append(y_train[i])\n",
    "        else:\n",
    "            labelsDic[labels[i]] = []\n",
    "            labelsDic[labels[i]].append(x_train[i])\n",
    "            labelsDicY[labels[i]] = []\n",
    "            labelsDicY[labels[i]].append(y_train[i])\n",
    "\n",
    "    classifiers = []\n",
    "    # train classifiers based on clusters and add them in their labels order to classifiers array\n",
    "    for i in labelsDic.keys():\n",
    "        # newClassifier = RandomForestClassifier(n_estimators=1000, random_state=0)\n",
    "        newClassifier = RandomForestClassifier(n_estimators=1000, random_state=0)\n",
    "        # newClassifier = DecisionTreeClassifier(max_depth=4, criterion='entropy', max_features=0.6, splitter='best')\n",
    "        newClassifier.fit(np.array(labelsDic[i]), np.array(labelsDicY[i]).ravel())\n",
    "        classifiers.append(newClassifier)\n",
    "    testXDict = {}\n",
    "    testYDict = {}\n",
    "    x_testList = x_test.tolist()\n",
    "    y_testlist = y_test.tolist()\n",
    "    for i in range(len(x_testList)):\n",
    "\n",
    "        toPredict = []\n",
    "        toPredict.append(x_testList[i])\n",
    "        index = kmeans.predict(toPredict)[0]\n",
    "        if index in testXDict.keys():\n",
    "            testXDict[index].append(x_testList[i])\n",
    "            testYDict[index].append(y_testlist[i])\n",
    "        else:\n",
    "            testXDict[index] = []\n",
    "            testYDict[index] = []\n",
    "            testXDict[index].append(x_testList[i])\n",
    "            testYDict[index].append(y_testlist[i])\n",
    "    for i in testXDict.keys():\n",
    "        classifier = classifiers[i]\n",
    "        pred_forest = classifier.predict(testXDict[i])\n",
    "        presForest = precision_score(testYDict[i], pred_forest, zero_division=1, average=averageMode)\n",
    "        recallForest = recall_score(testYDict[i], pred_forest, zero_division=1, average=averageMode)\n",
    "        recallForestArray.append(recallForest)\n",
    "        pressForestArray.append(presForest)\n",
    "        rfAcc = accuracy_score(testYDict[i], pred_forest)\n",
    "        forestArrayAcc.append(rfAcc)\n",
    "        if not (presForest + recallForest == 0):\n",
    "            forestF1Array.append((2 * presForest * recallForest) / (presForest + recallForest))\n",
    "        else:\n",
    "            forestF1Array.append(0)\n",
    "            \n",
    "        print(confusion_matrix(testYDict[i], pred_forest))\n",
    "        \n",
    "        hist = []\n",
    "        #false alarm\n",
    "        for j in range(len(pred_forest)):\n",
    "            if(testYDict[i][j]!=[1.0] and pred_forest[j]==1.0):\n",
    "                hist.append(j)\n",
    "        plt.hist(hist)\n",
    "        plt.show()\n",
    "               \n",
    "print(\"average accuracy:\", sum(forestArrayAcc) / len(forestArrayAcc))\n",
    "print(\"average precision:\", sum(pressForestArray) / len(pressForestArray))\n",
    "print(\"average recall\", sum(recallForestArray) / len(recallForestArray))\n",
    "print(\"average F1\", sum(forestF1Array) / len(forestF1Array))\n",
    "print(\"The time of execution of above program is :\", (end - start) * 10 ** 3, \"ms\")"
   ]
  },
  {
   "cell_type": "code",
   "execution_count": null,
   "id": "940f5989",
   "metadata": {},
   "outputs": [],
   "source": []
  }
 ],
 "metadata": {
  "kernelspec": {
   "display_name": "Python 3",
   "language": "python",
   "name": "python3"
  },
  "language_info": {
   "codemirror_mode": {
    "name": "ipython",
    "version": 3
   },
   "file_extension": ".py",
   "mimetype": "text/x-python",
   "name": "python",
   "nbconvert_exporter": "python",
   "pygments_lexer": "ipython3",
   "version": "3.8.3rc1"
  }
 },
 "nbformat": 4,
 "nbformat_minor": 5
}
