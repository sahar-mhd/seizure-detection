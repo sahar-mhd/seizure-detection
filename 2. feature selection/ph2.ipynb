{
 "cells": [
  {
   "cell_type": "code",
   "execution_count": 1,
   "id": "ed016abb",
   "metadata": {},
   "outputs": [],
   "source": [
    "import numpy as np\n",
    "import pandas as pd\n",
    "import matplotlib.pyplot as plt\n",
    "import pickle\n",
    "import random\n",
    "import os\n",
    "from scipy.signal import butter, lfilter\n",
    "from scipy.stats import skew, kurtosis\n",
    "from sklearn.metrics import confusion_matrix\n",
    "from sklearn.model_selection import train_test_split\n",
    "from sklearn.tree import DecisionTreeClassifier\n",
    "from sklearn.metrics import accuracy_score\n",
    "from sklearn.metrics import classification_report\n",
    "from sklearn.metrics import f1_score\n",
    "from sklearn.cluster import AgglomerativeClustering\n",
    "from sklearn.cluster import KMeans\n",
    "from sklearn.svm import SVC"
   ]
  },
  {
   "cell_type": "code",
   "execution_count": 2,
   "id": "09ca59bd",
   "metadata": {},
   "outputs": [],
   "source": [
    "seed = 57\n",
    "random.seed(seed)\n",
    "os.environ['PYTHONHASHSEED'] = str(seed)\n",
    "np.random.seed(seed)"
   ]
  },
  {
   "cell_type": "code",
   "execution_count": 3,
   "id": "24d6c4a6",
   "metadata": {},
   "outputs": [],
   "source": [
    "x = pickle.load(open('x.pkl', 'rb'))\n",
    "y = pickle.load(open('y.pkl', 'rb'))"
   ]
  },
  {
   "cell_type": "code",
   "execution_count": 4,
   "id": "0819a735",
   "metadata": {},
   "outputs": [
    {
     "name": "stdout",
     "output_type": "stream",
     "text": [
      "(400, 4097)\n",
      "(100, 4097)\n"
     ]
    }
   ],
   "source": [
    "x_normal = np.concatenate((x[:300], x[400:]), axis=0)\n",
    "x_seizure = x[300:400]\n",
    "print(x_normal.shape)\n",
    "print(x_seizure.shape)\n",
    "sampling_freq = 173.6 #based on info from website"
   ]
  },
  {
   "cell_type": "code",
   "execution_count": 5,
   "id": "4a0c733f",
   "metadata": {},
   "outputs": [
    {
     "name": "stdout",
     "output_type": "stream",
     "text": [
      "(400, 4097)\n",
      "(100, 4097)\n"
     ]
    }
   ],
   "source": [
    "b, a = butter(3, [0.5,40], btype='bandpass',fs=sampling_freq)\n",
    "\n",
    "x_normal_filtered = np.array([lfilter(b,a,x_normal[ind,:]) for ind in range(x_normal.shape[0])])\n",
    "x_seizure_filtered = np.array([lfilter(b,a,x_seizure[ind,:]) for ind in range(x_seizure.shape[0])])\n",
    "print(x_normal.shape)\n",
    "print(x_seizure.shape)\n",
    "\n",
    "x_normal = x_normal_filtered\n",
    "x_seizure = x_seizure_filtered\n",
    "\n",
    "x = np.concatenate((x_normal,x_seizure))\n",
    "y = np.concatenate((np.zeros((400,1)),np.ones((100,1))))"
   ]
  },
  {
   "cell_type": "markdown",
   "id": "ee9be02d",
   "metadata": {},
   "source": [
    "### 1.lets classify with only 1 feature with a decision tree and compute the accuracy to find out how much the feature is good solely"
   ]
  },
  {
   "cell_type": "code",
   "execution_count": 6,
   "id": "ee89054b",
   "metadata": {},
   "outputs": [],
   "source": [
    "# Function to perform training with giniIndex.\n",
    "def train_using_gini(X_train, X_test, y_train):\n",
    "  \n",
    "    # Creating the classifier object\n",
    "    clf_gini = DecisionTreeClassifier(criterion = \"gini\",\n",
    "            random_state = 100,max_depth=3, min_samples_leaf=5)\n",
    "  \n",
    "    # Performing training\n",
    "    clf_gini.fit(X_train, y_train)\n",
    "    return clf_gini"
   ]
  },
  {
   "cell_type": "code",
   "execution_count": 7,
   "id": "c859a12f",
   "metadata": {},
   "outputs": [],
   "source": [
    "# Function to make predictions\n",
    "def prediction(X_test, clf_object):\n",
    "  \n",
    "    # Predicton on test with giniIndex\n",
    "    y_pred = clf_object.predict(X_test)\n",
    "    print(\"Predicted values:\")\n",
    "    print(y_pred)\n",
    "    return y_pred"
   ]
  },
  {
   "cell_type": "code",
   "execution_count": 8,
   "id": "c87a349f",
   "metadata": {},
   "outputs": [],
   "source": [
    "# Function to calculate accuracy\n",
    "def cal_accuracy(y_test, y_pred):\n",
    "      \n",
    "    print(\"Confusion Matrix: \",\n",
    "        confusion_matrix(y_test, y_pred))\n",
    "      \n",
    "    print (\"Accuracy : \",\n",
    "    accuracy_score(y_test,y_pred)*100)\n",
    "      \n",
    "    print(\"Report : \",\n",
    "    classification_report(y_test, y_pred))"
   ]
  },
  {
   "cell_type": "code",
   "execution_count": 9,
   "id": "7c1155fb",
   "metadata": {},
   "outputs": [
    {
     "name": "stdout",
     "output_type": "stream",
     "text": [
      "Predicted values:\n",
      "[0. 0. 0. 0. 0. 1. 0. 0. 0. 0. 1. 0. 0. 0. 0. 1. 0. 0. 0. 0. 0. 0. 0. 0.\n",
      " 1. 1. 0. 0. 0. 0. 0. 0. 0. 0. 0. 0. 0. 0. 0. 0. 0. 0. 1. 0. 0. 0. 0. 0.\n",
      " 0. 0. 0. 0. 0. 0. 0. 0. 0. 0. 0. 0. 0. 0. 1. 0. 0. 1. 0. 0. 0. 0. 0. 0.\n",
      " 0. 0. 0. 0. 0. 0. 0. 0. 0. 0. 0. 0. 0. 0. 0. 0. 0. 0. 0. 0. 0. 0. 0. 0.\n",
      " 0. 0. 0. 0.]\n",
      "Confusion Matrix:  [[72  2]\n",
      " [20  6]]\n",
      "Accuracy :  78.0\n",
      "Report :                precision    recall  f1-score   support\n",
      "\n",
      "         0.0       0.78      0.97      0.87        74\n",
      "         1.0       0.75      0.23      0.35        26\n",
      "\n",
      "    accuracy                           0.78       100\n",
      "   macro avg       0.77      0.60      0.61       100\n",
      "weighted avg       0.77      0.78      0.73       100\n",
      "\n"
     ]
    }
   ],
   "source": [
    "arr1 = np.zeros((500,1))\n",
    "arr = np.zeros((500,61))\n",
    "ar = np.zeros((500, 15))\n",
    "#mean, the first feature testing\n",
    "for i in range(500):\n",
    "    arr1[i,0] = np.mean(x[i])\n",
    "    arr[i,0] = np.mean(x[i])\n",
    "    ar[i,0] = np.mean(x[i])\n",
    "    \n",
    "X_train, X_test, y_train, y_test = train_test_split(arr1,y,random_state=seed,test_size=0.2)\n",
    "clf_gini = train_using_gini(X_train, X_test, y_train)\n",
    "    \n",
    "# Prediction using gini\n",
    "y_pred_gini = prediction(X_test, clf_gini)\n",
    "cal_accuracy(y_test, y_pred_gini)"
   ]
  },
  {
   "cell_type": "code",
   "execution_count": 10,
   "id": "88934f4a",
   "metadata": {},
   "outputs": [
    {
     "name": "stdout",
     "output_type": "stream",
     "text": [
      "Accuracy :  95.0\n"
     ]
    }
   ],
   "source": [
    "arr2 = np.zeros((500,1))\n",
    "#std\n",
    "for i in range(500):\n",
    "    arr2[i,0] = np.std(x[i])\n",
    "    arr[i,1] = np.std(x[i])\n",
    "    ar[i,1] = np.std(x[i])\n",
    "    \n",
    "X_train, X_test, y_train, y_test = train_test_split(arr2,y,random_state=seed,test_size=0.2)\n",
    "clf_gini = train_using_gini(X_train, X_test, y_train)\n",
    "    \n",
    "# Prediction using gini\n",
    "y_pred = clf_gini.predict(X_test)\n",
    "print (\"Accuracy : \", accuracy_score(y_test,y_pred)*100)"
   ]
  },
  {
   "cell_type": "code",
   "execution_count": 11,
   "id": "9e203374",
   "metadata": {},
   "outputs": [
    {
     "name": "stdout",
     "output_type": "stream",
     "text": [
      "Accuracy :  95.0\n"
     ]
    }
   ],
   "source": [
    "arr3 = np.zeros((500,1))\n",
    "#max\n",
    "for i in range(500):\n",
    "    arr3[i,0] = max(x[i])\n",
    "    arr[i,2] = max(x[i])\n",
    "    ar[i,2] = max(x[i])\n",
    "    \n",
    "X_train, X_test, y_train, y_test = train_test_split(arr3,y,random_state=seed,test_size=0.2)\n",
    "clf_gini = train_using_gini(X_train, X_test, y_train)\n",
    "    \n",
    "# Prediction using gini\n",
    "y_pred = clf_gini.predict(X_test)\n",
    "print (\"Accuracy : \", accuracy_score(y_test,y_pred)*100)"
   ]
  },
  {
   "cell_type": "code",
   "execution_count": 12,
   "id": "53f1dcdd",
   "metadata": {},
   "outputs": [
    {
     "name": "stdout",
     "output_type": "stream",
     "text": [
      "Accuracy :  95.0\n"
     ]
    }
   ],
   "source": [
    "arr4 = np.zeros((500,1))\n",
    "#min\n",
    "for i in range(500):\n",
    "    arr4[i,0] = min(x[i])\n",
    "    arr[i,3] = min(x[i])\n",
    "    ar[i,3] = min(x[i])\n",
    "    \n",
    "X_train, X_test, y_train, y_test = train_test_split(arr4,y,random_state=seed,test_size=0.2)\n",
    "clf_gini = train_using_gini(X_train, X_test, y_train)\n",
    "    \n",
    "# Prediction using gini\n",
    "y_pred = clf_gini.predict(X_test)\n",
    "print (\"Accuracy : \", accuracy_score(y_test,y_pred)*100)  "
   ]
  },
  {
   "cell_type": "code",
   "execution_count": 13,
   "id": "b4b57a49",
   "metadata": {},
   "outputs": [
    {
     "name": "stdout",
     "output_type": "stream",
     "text": [
      "Accuracy :  85.0\n"
     ]
    }
   ],
   "source": [
    "arr5 = np.zeros((500,1))\n",
    "#skewness\n",
    "for i in range(500):\n",
    "    arr5[i,0] = skew(x[i], axis=0, bias=True)\n",
    "    arr[i,4] = skew(x[i], axis=0, bias=True)\n",
    "    ar[i,4] = skew(x[i], axis=0, bias=True)\n",
    "    \n",
    "X_train, X_test, y_train, y_test = train_test_split(arr5,y,random_state=seed,test_size=0.2)\n",
    "clf_gini = train_using_gini(X_train, X_test, y_train)\n",
    "    \n",
    "# Prediction using gini\n",
    "y_pred = clf_gini.predict(X_test)\n",
    "print (\"Accuracy : \", accuracy_score(y_test,y_pred)*100)  "
   ]
  },
  {
   "cell_type": "code",
   "execution_count": 14,
   "id": "664f6472",
   "metadata": {},
   "outputs": [
    {
     "name": "stdout",
     "output_type": "stream",
     "text": [
      "Accuracy :  78.0\n"
     ]
    }
   ],
   "source": [
    "arr6 = np.zeros((500,1))\n",
    "#kurtosis\n",
    "for i in range(500):\n",
    "    arr6[i,0] = kurtosis(x[i], fisher=True)\n",
    "    arr[i,5] = kurtosis(x[i], fisher=True)\n",
    "    ar[i,5] = kurtosis(x[i], fisher=True)\n",
    "    \n",
    "X_train, X_test, y_train, y_test = train_test_split(arr6,y,random_state=seed,test_size=0.2)\n",
    "clf_gini = train_using_gini(X_train, X_test, y_train)\n",
    "    \n",
    "# Prediction using gini\n",
    "y_pred = clf_gini.predict(X_test)\n",
    "print (\"Accuracy : \", accuracy_score(y_test,y_pred)*100) "
   ]
  },
  {
   "cell_type": "code",
   "execution_count": 15,
   "id": "5d069e9a",
   "metadata": {},
   "outputs": [
    {
     "name": "stdout",
     "output_type": "stream",
     "text": [
      "Accuracy :  94.0\n"
     ]
    }
   ],
   "source": [
    "arr7 = np.zeros((500,1))\n",
    "#ptp\n",
    "for i in range(500):\n",
    "    arr7[i,0] = np.ptp(x[i])\n",
    "    arr[i,6] = np.ptp(x[i])\n",
    "    ar[i,6] = np.ptp(x[i])\n",
    "    \n",
    "X_train, X_test, y_train, y_test = train_test_split(arr7,y,random_state=seed,test_size=0.2)\n",
    "clf_gini = train_using_gini(X_train, X_test, y_train)\n",
    "    \n",
    "# Prediction using gini\n",
    "y_pred = clf_gini.predict(X_test)\n",
    "print (\"Accuracy : \", accuracy_score(y_test,y_pred)*100) "
   ]
  },
  {
   "cell_type": "code",
   "execution_count": 16,
   "id": "553970c5",
   "metadata": {},
   "outputs": [
    {
     "name": "stdout",
     "output_type": "stream",
     "text": [
      "Accuracy :  73.0\n"
     ]
    }
   ],
   "source": [
    "arr8 = np.zeros((500,1))\n",
    "#twopp\n",
    "for i in range(500):\n",
    "    tmax = x[i].argmax()\n",
    "    tmin = x[i].argmin()\n",
    "    twopp = tmax - tmin\n",
    "    arr8[i,0] = twopp\n",
    "    arr[i,7] = twopp\n",
    "    ar[i,7] = twopp\n",
    "    \n",
    "X_train, X_test, y_train, y_test = train_test_split(arr8,y,random_state=seed,test_size=0.2)\n",
    "clf_gini = train_using_gini(X_train, X_test, y_train)\n",
    "    \n",
    "# Prediction using gini\n",
    "y_pred = clf_gini.predict(X_test)\n",
    "print (\"Accuracy : \", accuracy_score(y_test,y_pred)*100) "
   ]
  },
  {
   "cell_type": "code",
   "execution_count": 17,
   "id": "4b08ef8a",
   "metadata": {},
   "outputs": [
    {
     "name": "stdout",
     "output_type": "stream",
     "text": [
      "Accuracy :  77.0\n"
     ]
    }
   ],
   "source": [
    "arr9 = np.zeros((500,1))\n",
    "#pps\n",
    "for i in range(500):\n",
    "    ptp = np.ptp(x[i])\n",
    "    tmax = x[i].argmax()\n",
    "    tmin = x[i].argmin()\n",
    "    twopp = tmax - tmin\n",
    "    arr9[i,0] = ptp/twopp\n",
    "    arr[i,8] = ptp/twopp\n",
    "    ar[i,8] = ptp/twopp\n",
    "    \n",
    "X_train, X_test, y_train, y_test = train_test_split(arr9,y,random_state=seed,test_size=0.2)\n",
    "clf_gini = train_using_gini(X_train, X_test, y_train)\n",
    "    \n",
    "# Prediction using gini\n",
    "y_pred = clf_gini.predict(X_test)\n",
    "print (\"Accuracy : \", accuracy_score(y_test,y_pred)*100) "
   ]
  },
  {
   "cell_type": "code",
   "execution_count": 18,
   "id": "6aa3a69c",
   "metadata": {},
   "outputs": [],
   "source": [
    "def get_rms_acceleration(signal, frame_size, hop_length):\n",
    "    rms = []\n",
    "    for i in range(0, len(signal), hop_length):\n",
    "        current_rms = np.sqrt(np.sum(signal[i:i+frame_size]**2)/frame_size)\n",
    "        rms.append(current_rms)\n",
    "    return rms"
   ]
  },
  {
   "cell_type": "code",
   "execution_count": 19,
   "id": "c0621524",
   "metadata": {},
   "outputs": [
    {
     "name": "stdout",
     "output_type": "stream",
     "text": [
      "Accuracy :  97.0\n"
     ]
    }
   ],
   "source": [
    "arr10 = np.zeros((500,9))\n",
    "new_x = []\n",
    "for i in range(500):\n",
    "    new_x.append(get_rms_acceleration(x[i], 1024,512))\n",
    " \n",
    "    for j in range(9):\n",
    "        arr10[i,j] = new_x[i][j]\n",
    "        arr[i,9+j] = new_x[i][j]\n",
    "    ar[i,9] = np.mean(arr10[i])\n",
    "    \n",
    "X_train, X_test, y_train, y_test = train_test_split(arr10,y,random_state=seed,test_size=0.2)\n",
    "clf_gini = train_using_gini(X_train, X_test, y_train)\n",
    "    \n",
    "# Prediction using gini\n",
    "y_pred = clf_gini.predict(X_test)\n",
    "print (\"Accuracy : \", accuracy_score(y_test,y_pred)*100) "
   ]
  },
  {
   "cell_type": "code",
   "execution_count": 20,
   "id": "43cbb379",
   "metadata": {},
   "outputs": [],
   "source": [
    "def get_margin_factor(signal, frame_size, hop_length):\n",
    "    mar_fac = []\n",
    "    for i in range(0, len(signal), hop_length):\n",
    "        curr_mar_fac = np.max(np.abs(signal[i:i+frame_size])) / ((np.sum(np.sqrt(np.abs(signal[i:i+frame_size])))/ frame_size**2))\n",
    "        mar_fac.append(curr_mar_fac)                             \n",
    "    return mar_fac"
   ]
  },
  {
   "cell_type": "code",
   "execution_count": 21,
   "id": "4a60b81c",
   "metadata": {},
   "outputs": [
    {
     "name": "stdout",
     "output_type": "stream",
     "text": [
      "Accuracy :  93.0\n"
     ]
    }
   ],
   "source": [
    "arr11 = np.zeros((500,9))\n",
    "new_x = []\n",
    "for i in range(500):\n",
    "    new_x.append(get_margin_factor(x[i], 1024,512))\n",
    "    for j in range(9):\n",
    "        arr11[i,j] = new_x[i][j]\n",
    "        arr[i,18+j] = new_x[i][j]\n",
    "    ar[i,10] = np.mean(arr11[i])\n",
    "    \n",
    "X_train, X_test, y_train, y_test = train_test_split(arr11,y,random_state=seed,test_size=0.2)\n",
    "clf_gini = train_using_gini(X_train, X_test, y_train)\n",
    "    \n",
    "# Prediction using gini\n",
    "y_pred = clf_gini.predict(X_test)\n",
    "print (\"Accuracy : \", accuracy_score(y_test,y_pred)*100) "
   ]
  },
  {
   "cell_type": "code",
   "execution_count": 22,
   "id": "1f93a387",
   "metadata": {},
   "outputs": [],
   "source": [
    "def get_shape_factor(signal, frame_size, hop_length):\n",
    "    fin_shape_fact = []\n",
    "    for i in range(0, len(signal), hop_length):\n",
    "        cur_shape_fact = np.sqrt(((np.sum(signal[i:i+frame_size]**2))/frame_size) / (np.sum(np.abs(signal[i:i+frame_size]))/frame_size))\n",
    "        fin_shape_fact.append(cur_shape_fact)\n",
    "\n",
    "    return fin_shape_fact"
   ]
  },
  {
   "cell_type": "code",
   "execution_count": 23,
   "id": "6c4be57a",
   "metadata": {},
   "outputs": [
    {
     "name": "stdout",
     "output_type": "stream",
     "text": [
      "Accuracy :  94.0\n"
     ]
    }
   ],
   "source": [
    "arr12 = np.zeros((500,9))\n",
    "new_x = []\n",
    "for i in range(500):\n",
    "    new_x.append(get_shape_factor(x[i], 1024,512))\n",
    "    \n",
    "    for j in range(9):\n",
    "        arr12[i,j] = new_x[i][j]\n",
    "        arr[i,27+j] = new_x[i][j]\n",
    "    ar[i,11] = np.mean(arr12[i])\n",
    "        \n",
    "X_train, X_test, y_train, y_test = train_test_split(arr12,y,random_state=seed,test_size=0.2)\n",
    "clf_gini = train_using_gini(X_train, X_test, y_train)\n",
    "    \n",
    "# Prediction using gini\n",
    "y_pred = clf_gini.predict(X_test)\n",
    "print (\"Accuracy : \", accuracy_score(y_test,y_pred)*100) "
   ]
  },
  {
   "cell_type": "code",
   "execution_count": 24,
   "id": "79d92396",
   "metadata": {},
   "outputs": [],
   "source": [
    "def get_impulse_factor(signal, frame_size, hop_length):\n",
    "    impulse_factor = []\n",
    "    for i in range(0, len(signal), hop_length):\n",
    "        current_impls = max(np.abs(signal[i:i+frame_size]))/(np.sum(np.abs(signal[i:i+frame_size])/frame_size))\n",
    "        impulse_factor.append(current_impls)\n",
    "    return impulse_factor"
   ]
  },
  {
   "cell_type": "code",
   "execution_count": 25,
   "id": "f8d1bf9d",
   "metadata": {},
   "outputs": [
    {
     "name": "stdout",
     "output_type": "stream",
     "text": [
      "Accuracy :  75.0\n"
     ]
    }
   ],
   "source": [
    "arr13 = np.zeros((500,9))\n",
    "new_x = []\n",
    "for i in range(500):\n",
    "    new_x.append(get_impulse_factor(x[i], 1024,512))\n",
    "    \n",
    "    for j in range(9):\n",
    "        arr13[i,j] = new_x[i][j]\n",
    "        arr[i,36+j] = new_x[i][j]\n",
    "    ar[i,12] = np.mean(arr13[i])\n",
    "        \n",
    "X_train, X_test, y_train, y_test = train_test_split(arr13,y,random_state=seed,test_size=0.2)\n",
    "clf_gini = train_using_gini(X_train, X_test, y_train)\n",
    "    \n",
    "# Prediction using gini\n",
    "y_pred = clf_gini.predict(X_test)\n",
    "print (\"Accuracy : \", accuracy_score(y_test,y_pred)*100) "
   ]
  },
  {
   "cell_type": "code",
   "execution_count": 26,
   "id": "30d2d205",
   "metadata": {},
   "outputs": [],
   "source": [
    "def get_third_freq(signal, frame_size, hop_length):\n",
    "    third = []\n",
    "    for i in range(0, len(signal), hop_length):\n",
    "        L = len(signal[i:i+frame_size])\n",
    "        y = abs(np.fft.fft(signal[i:i+frame_size]/L))[:int(L/2)]\n",
    "        current_third = (np.sum((y - (np.sum(y)/frame_size))**3))/(frame_size * (np.sqrt((np.sum((y - (np.sum(y)/frame_size))**2))/(frame_size-1)))**3)\n",
    "        third.append(current_third)\n",
    "    return np.array(third)"
   ]
  },
  {
   "cell_type": "code",
   "execution_count": 27,
   "id": "e87627c8",
   "metadata": {},
   "outputs": [
    {
     "name": "stderr",
     "output_type": "stream",
     "text": [
      "<ipython-input-26-1a8d04918b9b>:6: RuntimeWarning: invalid value encountered in double_scalars\n",
      "  current_third = (np.sum((y - (np.sum(y)/frame_size))**3))/(frame_size * (np.sqrt((np.sum((y - (np.sum(y)/frame_size))**2))/(frame_size-1)))**3)\n"
     ]
    },
    {
     "name": "stdout",
     "output_type": "stream",
     "text": [
      "Accuracy :  74.0\n"
     ]
    }
   ],
   "source": [
    "arr14 = np.zeros((500,8))\n",
    "new_x = []\n",
    "for i in range(500):\n",
    "    new_x.append(get_third_freq(x[i], 1024,512))\n",
    "    \n",
    "    for j in range(8):\n",
    "        arr14[i,j] = new_x[i][j]\n",
    "        arr[i,45+j] = new_x[i][j]\n",
    "    ar[i,13] = np.mean(arr14[i])\n",
    "        \n",
    "X_train, X_test, y_train, y_test = train_test_split(arr14,y,random_state=seed,test_size=0.2)\n",
    "clf_gini = train_using_gini(X_train, X_test, y_train)\n",
    "    \n",
    "# Prediction using gini\n",
    "y_pred = clf_gini.predict(X_test)\n",
    "print (\"Accuracy : \", accuracy_score(y_test,y_pred)*100) "
   ]
  },
  {
   "cell_type": "code",
   "execution_count": 28,
   "id": "0b01eb08",
   "metadata": {},
   "outputs": [],
   "source": [
    "def get_forth_freq(signal, frame_size, hop_length):\n",
    "    forth = []\n",
    "    for i in range(0, len(signal), hop_length):\n",
    "        L = len(signal[i:i+frame_size])\n",
    "        y = abs(np.fft.fft(signal[i:i+frame_size]/L))[:int(L/2)]\n",
    "        current_forth = (np.sum((y - (np.sum(y)/frame_size))**4))/(frame_size * ((np.sum((y - (np.sum(y)/frame_size))**2))/(frame_size-1))**2)\n",
    "        forth.append(current_forth)\n",
    "    return np.array(forth)"
   ]
  },
  {
   "cell_type": "code",
   "execution_count": 29,
   "id": "868b1199",
   "metadata": {},
   "outputs": [
    {
     "name": "stderr",
     "output_type": "stream",
     "text": [
      "<ipython-input-28-f472b2da5a18>:6: RuntimeWarning: invalid value encountered in double_scalars\n",
      "  current_forth = (np.sum((y - (np.sum(y)/frame_size))**4))/(frame_size * ((np.sum((y - (np.sum(y)/frame_size))**2))/(frame_size-1))**2)\n"
     ]
    },
    {
     "name": "stdout",
     "output_type": "stream",
     "text": [
      "Accuracy :  76.0\n"
     ]
    }
   ],
   "source": [
    "arr15 = np.zeros((500,8))\n",
    "new_x = []\n",
    "for i in range(500):\n",
    "    new_x.append(get_forth_freq(x[i], 1024,512))\n",
    "    \n",
    "    for j in range(8):\n",
    "        arr15[i,j] = new_x[i][j]\n",
    "        arr[i,53+j] = new_x[i][j]\n",
    "    ar[i,14] = np.mean(arr15[i])\n",
    "\n",
    "X_train, X_test, y_train, y_test = train_test_split(arr15,y,random_state=seed,test_size=0.2)\n",
    "clf_gini = train_using_gini(X_train, X_test, y_train)\n",
    "    \n",
    "# Prediction using gini\n",
    "y_pred = clf_gini.predict(X_test)\n",
    "print (\"Accuracy : \", accuracy_score(y_test,y_pred)*100) "
   ]
  },
  {
   "cell_type": "markdown",
   "id": "62804188",
   "metadata": {},
   "source": [
    "### 2.correlation of each pair of features "
   ]
  },
  {
   "cell_type": "code",
   "execution_count": 30,
   "id": "ce11c862",
   "metadata": {},
   "outputs": [
    {
     "name": "stdout",
     "output_type": "stream",
     "text": [
      "pps     twopp     0.012514\n",
      "twopp   pps       0.012514\n",
      "        margin    0.013541\n",
      "margin  twopp     0.013541\n",
      "min     twopp     0.030808\n",
      "                    ...   \n",
      "        min       1.000000\n",
      "max     max       1.000000\n",
      "std     std       1.000000\n",
      "3f      3f        1.000000\n",
      "4f      4f        1.000000\n",
      "Length: 225, dtype: float64\n"
     ]
    }
   ],
   "source": [
    "df = pd.DataFrame(ar, columns = ['mean', 'std','max','min','skew','kurt','ptp','twopp','pps','rms','margin','shape', 'impulse','3f','4f'])\n",
    "# Create correlation matrix\n",
    "corr_mat = df.corr(method='pearson')\n",
    "\n",
    "a = abs(corr_mat.unstack())\n",
    "# Convert correlation matrix to 1-D Series and sort\n",
    "sorted_mat = a.sort_values()\n",
    "\n",
    "print(sorted_mat)"
   ]
  },
  {
   "cell_type": "code",
   "execution_count": 31,
   "id": "33249425",
   "metadata": {},
   "outputs": [
    {
     "name": "stdout",
     "output_type": "stream",
     "text": [
      "pps     twopp     0.012514\n",
      "twopp   pps       0.012514\n",
      "        margin    0.013541\n",
      "margin  twopp     0.013541\n",
      "min     twopp     0.030808\n",
      "twopp   min       0.030808\n",
      "mean    max       0.033498\n",
      "max     mean      0.033498\n",
      "pps     mean      0.049601\n",
      "mean    pps       0.049601\n",
      "dtype: float64\n"
     ]
    }
   ],
   "source": [
    "print(sorted_mat[0:10])"
   ]
  },
  {
   "cell_type": "markdown",
   "id": "ef661df5",
   "metadata": {},
   "source": [
    "### 3.now, among those who have less correlations  "
   ]
  },
  {
   "cell_type": "code",
   "execution_count": 32,
   "id": "cf96797d",
   "metadata": {},
   "outputs": [
    {
     "name": "stdout",
     "output_type": "stream",
     "text": [
      "mean  max     0.033498\n",
      "max   mean    0.033498\n",
      "mean  mean    1.000000\n",
      "max   max     1.000000\n",
      "dtype: float64\n"
     ]
    }
   ],
   "source": [
    "feat = np.zeros((500,2))\n",
    "for i in range(500):\n",
    "    feat[i,0] = np.mean(x[i])\n",
    "    feat[i,1] = np.max(x[i])\n",
    "    \n",
    "df = pd.DataFrame(feat, columns = ['mean','max'])\n",
    "# Create correlation matrix\n",
    "corr_mat = df.corr(method='pearson')\n",
    "\n",
    "a = abs(corr_mat.unstack())\n",
    "# Convert correlation matrix to 1-D Series and sort\n",
    "sorted_mat = a.sort_values()\n",
    "print(sorted_mat)"
   ]
  },
  {
   "cell_type": "code",
   "execution_count": 33,
   "id": "0e278733",
   "metadata": {},
   "outputs": [
    {
     "name": "stdout",
     "output_type": "stream",
     "text": [
      "max  std    0.927024\n",
      "std  max    0.927024\n",
      "max  max    1.000000\n",
      "std  std    1.000000\n",
      "dtype: float64\n"
     ]
    }
   ],
   "source": [
    "feat = np.zeros((500,2))\n",
    "for i in range(500):\n",
    "    feat[i,0] = np.max(x[i])\n",
    "    feat[i,1] = np.std(x[i])\n",
    "    \n",
    "df = pd.DataFrame(feat, columns = ['max','std'])\n",
    "# Create correlation matrix\n",
    "corr_mat = df.corr(method='pearson')\n",
    "\n",
    "a = abs(corr_mat.unstack())\n",
    "# Convert correlation matrix to 1-D Series and sort\n",
    "sorted_mat = a.sort_values()\n",
    "print(sorted_mat)"
   ]
  },
  {
   "cell_type": "code",
   "execution_count": 34,
   "id": "630a9f30",
   "metadata": {},
   "outputs": [
    {
     "name": "stdout",
     "output_type": "stream",
     "text": [
      "max  min    0.856563\n",
      "min  max    0.856563\n",
      "max  max    1.000000\n",
      "min  min    1.000000\n",
      "dtype: float64\n"
     ]
    }
   ],
   "source": [
    "feat = np.zeros((500,2))\n",
    "for i in range(500):\n",
    "    feat[i,0] = np.max(x[i])\n",
    "    feat[i,1] = np.min(x[i])\n",
    "    \n",
    "df = pd.DataFrame(feat, columns = ['max','min'])\n",
    "# Create correlation matrix\n",
    "corr_mat = df.corr(method='pearson')\n",
    "\n",
    "a = abs(corr_mat.unstack())\n",
    "# Convert correlation matrix to 1-D Series and sort\n",
    "sorted_mat = a.sort_values()\n",
    "print(sorted_mat)"
   ]
  },
  {
   "cell_type": "code",
   "execution_count": 35,
   "id": "318ca5f3",
   "metadata": {},
   "outputs": [
    {
     "name": "stdout",
     "output_type": "stream",
     "text": [
      "max  ptp    0.958717\n",
      "ptp  max    0.958717\n",
      "max  max    1.000000\n",
      "ptp  ptp    1.000000\n",
      "dtype: float64\n"
     ]
    }
   ],
   "source": [
    "feat = np.zeros((500,2))\n",
    "for i in range(500):\n",
    "    feat[i,0] = np.max(x[i])\n",
    "    feat[i,1] = np.ptp(x[i])\n",
    "    \n",
    "df = pd.DataFrame(feat, columns = ['max','ptp'])\n",
    "# Create correlation matrix\n",
    "corr_mat = df.corr(method='pearson')\n",
    "\n",
    "a = abs(corr_mat.unstack())\n",
    "# Convert correlation matrix to 1-D Series and sort\n",
    "sorted_mat = a.sort_values()\n",
    "print(sorted_mat)"
   ]
  },
  {
   "cell_type": "code",
   "execution_count": 36,
   "id": "85661f41",
   "metadata": {},
   "outputs": [
    {
     "name": "stdout",
     "output_type": "stream",
     "text": [
      "max   skew    0.147628\n",
      "skew  max     0.147628\n",
      "max   max     1.000000\n",
      "skew  skew    1.000000\n",
      "dtype: float64\n"
     ]
    }
   ],
   "source": [
    "feat = np.zeros((500,2))\n",
    "for i in range(500):\n",
    "    feat[i,0] = np.max(x[i])\n",
    "    feat[i,1] = skew(x[i], axis=0, bias=True)\n",
    "    \n",
    "df = pd.DataFrame(feat, columns = ['max','skew'])\n",
    "# Create correlation matrix\n",
    "corr_mat = df.corr(method='pearson')\n",
    "\n",
    "a = abs(corr_mat.unstack())\n",
    "# Convert correlation matrix to 1-D Series and sort\n",
    "sorted_mat = a.sort_values()\n",
    "print(sorted_mat)"
   ]
  },
  {
   "cell_type": "code",
   "execution_count": 37,
   "id": "0ef3c409",
   "metadata": {},
   "outputs": [
    {
     "name": "stdout",
     "output_type": "stream",
     "text": [
      "mean  skew    0.185241\n",
      "skew  mean    0.185241\n",
      "mean  mean    1.000000\n",
      "skew  skew    1.000000\n",
      "dtype: float64\n"
     ]
    }
   ],
   "source": [
    "feat = np.zeros((500,2))\n",
    "for i in range(500):\n",
    "    feat[i,0] = np.mean(x[i])\n",
    "    feat[i,1] = skew(x[i], axis=0, bias=True)\n",
    "    \n",
    "df = pd.DataFrame(feat, columns = ['mean','skew'])\n",
    "# Create correlation matrix\n",
    "corr_mat = df.corr(method='pearson')\n",
    "\n",
    "a = abs(corr_mat.unstack())\n",
    "# Convert correlation matrix to 1-D Series and sort\n",
    "sorted_mat = a.sort_values()\n",
    "print(sorted_mat)"
   ]
  },
  {
   "cell_type": "code",
   "execution_count": 38,
   "id": "bac0776c",
   "metadata": {},
   "outputs": [
    {
     "name": "stdout",
     "output_type": "stream",
     "text": [
      "max   kurt    0.275252\n",
      "kurt  max     0.275252\n",
      "max   max     1.000000\n",
      "kurt  kurt    1.000000\n",
      "dtype: float64\n"
     ]
    }
   ],
   "source": [
    "feat = np.zeros((500,2))\n",
    "for i in range(500):\n",
    "    feat[i,0] = np.max(x[i])\n",
    "    feat[i,1] = kurtosis(x[i], fisher=True)\n",
    "    \n",
    "df = pd.DataFrame(feat, columns = ['max','kurt'])\n",
    "# Create correlation matrix\n",
    "corr_mat = df.corr(method='pearson')\n",
    "\n",
    "a = abs(corr_mat.unstack())\n",
    "# Convert correlation matrix to 1-D Series and sort\n",
    "sorted_mat = a.sort_values()\n",
    "print(sorted_mat)"
   ]
  },
  {
   "cell_type": "code",
   "execution_count": 39,
   "id": "f21afda0",
   "metadata": {},
   "outputs": [
    {
     "name": "stdout",
     "output_type": "stream",
     "text": [
      "mean  kurt    0.156201\n",
      "kurt  mean    0.156201\n",
      "mean  mean    1.000000\n",
      "kurt  kurt    1.000000\n",
      "dtype: float64\n"
     ]
    }
   ],
   "source": [
    "feat = np.zeros((500,2))\n",
    "for i in range(500):\n",
    "    feat[i,0] = np.mean(x[i])\n",
    "    feat[i,1] = kurtosis(x[i], fisher=True)\n",
    "    \n",
    "df = pd.DataFrame(feat, columns = ['mean','kurt'])\n",
    "# Create correlation matrix\n",
    "corr_mat = df.corr(method='pearson')\n",
    "\n",
    "a = abs(corr_mat.unstack())\n",
    "# Convert correlation matrix to 1-D Series and sort\n",
    "sorted_mat = a.sort_values()\n",
    "print(sorted_mat)"
   ]
  },
  {
   "cell_type": "code",
   "execution_count": 40,
   "id": "c17de847",
   "metadata": {},
   "outputs": [
    {
     "name": "stdout",
     "output_type": "stream",
     "text": [
      "skew  kurt    0.153823\n",
      "kurt  skew    0.153823\n",
      "skew  skew    1.000000\n",
      "kurt  kurt    1.000000\n",
      "dtype: float64\n"
     ]
    }
   ],
   "source": [
    "feat = np.zeros((500,2))\n",
    "for i in range(500):\n",
    "    feat[i,0] = skew(x[i], axis=0, bias=True)\n",
    "    feat[i,1] = kurtosis(x[i], fisher=True)\n",
    "    \n",
    "df = pd.DataFrame(feat, columns = ['skew','kurt'])\n",
    "# Create correlation matrix\n",
    "corr_mat = df.corr(method='pearson')\n",
    "\n",
    "a = abs(corr_mat.unstack())\n",
    "# Convert correlation matrix to 1-D Series and sort\n",
    "sorted_mat = a.sort_values()\n",
    "print(sorted_mat)"
   ]
  },
  {
   "cell_type": "code",
   "execution_count": 41,
   "id": "ce1a1ea0",
   "metadata": {},
   "outputs": [
    {
     "name": "stdout",
     "output_type": "stream",
     "text": [
      "max  pps    0.134742\n",
      "pps  max    0.134742\n",
      "max  max    1.000000\n",
      "pps  pps    1.000000\n",
      "dtype: float64\n"
     ]
    }
   ],
   "source": [
    "feat = np.zeros((500,2))\n",
    "for i in range(500):\n",
    "    feat[i,0] = np.max(x[i])\n",
    "    ptp = np.ptp(x[i])\n",
    "    tmax = x[i].argmax()\n",
    "    tmin = x[i].argmin()\n",
    "    twopp = tmax - tmin\n",
    "    feat[i,1] = ptp/twopp\n",
    "    \n",
    "df = pd.DataFrame(feat, columns = ['max','pps'])\n",
    "# Create correlation matrix\n",
    "corr_mat = df.corr(method='pearson')\n",
    "\n",
    "a = abs(corr_mat.unstack())\n",
    "# Convert correlation matrix to 1-D Series and sort\n",
    "sorted_mat = a.sort_values()\n",
    "print(sorted_mat)"
   ]
  },
  {
   "cell_type": "code",
   "execution_count": 42,
   "id": "36a9bd34",
   "metadata": {},
   "outputs": [
    {
     "name": "stdout",
     "output_type": "stream",
     "text": [
      "mean  pps     0.049601\n",
      "pps   mean    0.049601\n",
      "mean  mean    1.000000\n",
      "pps   pps     1.000000\n",
      "dtype: float64\n"
     ]
    }
   ],
   "source": [
    "feat = np.zeros((500,2))\n",
    "for i in range(500):\n",
    "    feat[i,0] = np.mean(x[i])\n",
    "    ptp = np.ptp(x[i])\n",
    "    tmax = x[i].argmax()\n",
    "    tmin = x[i].argmin()\n",
    "    twopp = tmax - tmin\n",
    "    feat[i,1] = ptp/twopp\n",
    "    \n",
    "df = pd.DataFrame(feat, columns = ['mean','pps'])\n",
    "# Create correlation matrix\n",
    "corr_mat = df.corr(method='pearson')\n",
    "\n",
    "a = abs(corr_mat.unstack())\n",
    "# Convert correlation matrix to 1-D Series and sort\n",
    "sorted_mat = a.sort_values()\n",
    "print(sorted_mat)"
   ]
  },
  {
   "cell_type": "code",
   "execution_count": 43,
   "id": "b4b4799d",
   "metadata": {},
   "outputs": [
    {
     "name": "stdout",
     "output_type": "stream",
     "text": [
      "skew  pps     0.166648\n",
      "pps   skew    0.166648\n",
      "skew  skew    1.000000\n",
      "pps   pps     1.000000\n",
      "dtype: float64\n"
     ]
    }
   ],
   "source": [
    "feat = np.zeros((500,2))\n",
    "for i in range(500):\n",
    "    feat[i,0] = skew(x[i], axis=0, bias=True)\n",
    "    ptp = np.ptp(x[i])\n",
    "    tmax = x[i].argmax()\n",
    "    tmin = x[i].argmin()\n",
    "    twopp = tmax - tmin\n",
    "    feat[i,1] = ptp/twopp\n",
    "    \n",
    "df = pd.DataFrame(feat, columns = ['skew','pps'])\n",
    "# Create correlation matrix\n",
    "corr_mat = df.corr(method='pearson')\n",
    "\n",
    "a = abs(corr_mat.unstack())\n",
    "# Convert correlation matrix to 1-D Series and sort\n",
    "sorted_mat = a.sort_values()\n",
    "print(sorted_mat)"
   ]
  },
  {
   "cell_type": "code",
   "execution_count": 44,
   "id": "83dc0eb0",
   "metadata": {},
   "outputs": [
    {
     "name": "stdout",
     "output_type": "stream",
     "text": [
      "kurt  pps     0.073673\n",
      "pps   kurt    0.073673\n",
      "kurt  kurt    1.000000\n",
      "pps   pps     1.000000\n",
      "dtype: float64\n"
     ]
    }
   ],
   "source": [
    "feat = np.zeros((500,2))\n",
    "for i in range(500):\n",
    "    feat[i,0] = kurtosis(x[i], fisher=True)\n",
    "    ptp = np.ptp(x[i])\n",
    "    tmax = x[i].argmax()\n",
    "    tmin = x[i].argmin()\n",
    "    twopp = tmax - tmin\n",
    "    feat[i,1] = ptp/twopp\n",
    "    \n",
    "df = pd.DataFrame(feat, columns = ['kurt','pps'])\n",
    "# Create correlation matrix\n",
    "corr_mat = df.corr(method='pearson')\n",
    "\n",
    "a = abs(corr_mat.unstack())\n",
    "# Convert correlation matrix to 1-D Series and sort\n",
    "sorted_mat = a.sort_values()\n",
    "print(sorted_mat)"
   ]
  },
  {
   "cell_type": "code",
   "execution_count": 45,
   "id": "fbde0504",
   "metadata": {},
   "outputs": [
    {
     "name": "stdout",
     "output_type": "stream",
     "text": [
      "max  rms    0.926009\n",
      "rms  max    0.926009\n",
      "max  max    1.000000\n",
      "rms  rms    1.000000\n",
      "dtype: float64\n"
     ]
    }
   ],
   "source": [
    "feat = np.zeros((500,2))\n",
    "for i in range(500):\n",
    "    feat[i,0] = np.max(x[i])\n",
    "new_x = []\n",
    "for i in range(500):  \n",
    "    new_x.append(get_rms_acceleration(x[i], 1024,512))\n",
    "    feat[i,1] = np.mean(new_x[i])\n",
    "    \n",
    "df = pd.DataFrame(feat, columns = ['max','rms'])\n",
    "# Create correlation matrix\n",
    "corr_mat = df.corr(method='pearson')\n",
    "\n",
    "a = abs(corr_mat.unstack())\n",
    "# Convert correlation matrix to 1-D Series and sort\n",
    "sorted_mat = a.sort_values()\n",
    "print(sorted_mat)"
   ]
  },
  {
   "cell_type": "code",
   "execution_count": 46,
   "id": "b545d5ef",
   "metadata": {},
   "outputs": [
    {
     "name": "stdout",
     "output_type": "stream",
     "text": [
      "max     margin    0.682277\n",
      "margin  max       0.682277\n",
      "max     max       1.000000\n",
      "margin  margin    1.000000\n",
      "dtype: float64\n"
     ]
    }
   ],
   "source": [
    "feat = np.zeros((500,2))\n",
    "for i in range(500):\n",
    "    feat[i,0] = np.max(x[i])\n",
    "new_x = []\n",
    "for i in range(500):  \n",
    "    new_x.append(get_margin_factor(x[i], 1024,512))\n",
    "    feat[i,1] = np.mean(new_x[i])\n",
    "    \n",
    "df = pd.DataFrame(feat, columns = ['max','margin'])\n",
    "# Create correlation matrix\n",
    "corr_mat = df.corr(method='pearson')\n",
    "\n",
    "a = abs(corr_mat.unstack())\n",
    "# Convert correlation matrix to 1-D Series and sort\n",
    "sorted_mat = a.sort_values()\n",
    "print(sorted_mat)"
   ]
  },
  {
   "cell_type": "code",
   "execution_count": 47,
   "id": "3b2e3597",
   "metadata": {},
   "outputs": [
    {
     "name": "stdout",
     "output_type": "stream",
     "text": [
      "max    shape    0.938253\n",
      "shape  max      0.938253\n",
      "max    max      1.000000\n",
      "shape  shape    1.000000\n",
      "dtype: float64\n"
     ]
    }
   ],
   "source": [
    "feat = np.zeros((500,2))\n",
    "for i in range(500):\n",
    "    feat[i,0] = np.max(x[i])\n",
    "new_x = []\n",
    "for i in range(500):  \n",
    "    new_x.append(get_shape_factor(x[i], 1024,512))\n",
    "    feat[i,1] = np.mean(new_x[i])\n",
    "    \n",
    "df = pd.DataFrame(feat, columns = ['max','shape'])\n",
    "# Create correlation matrix\n",
    "corr_mat = df.corr(method='pearson')\n",
    "\n",
    "a = abs(corr_mat.unstack())\n",
    "# Convert correlation matrix to 1-D Series and sort\n",
    "sorted_mat = a.sort_values()\n",
    "print(sorted_mat)"
   ]
  },
  {
   "cell_type": "code",
   "execution_count": 48,
   "id": "7614d5cd",
   "metadata": {},
   "outputs": [
    {
     "name": "stderr",
     "output_type": "stream",
     "text": [
      "<ipython-input-28-f472b2da5a18>:6: RuntimeWarning: invalid value encountered in double_scalars\n",
      "  current_forth = (np.sum((y - (np.sum(y)/frame_size))**4))/(frame_size * ((np.sum((y - (np.sum(y)/frame_size))**2))/(frame_size-1))**2)\n"
     ]
    },
    {
     "name": "stdout",
     "output_type": "stream",
     "text": [
      "max  4f     0.16219\n",
      "4f   max    0.16219\n",
      "max  max    1.00000\n",
      "4f   4f     1.00000\n",
      "dtype: float64\n"
     ]
    }
   ],
   "source": [
    "feat = np.zeros((500,2))\n",
    "for i in range(500):\n",
    "    feat[i,0] = np.max(x[i])\n",
    "new_x = []\n",
    "for i in range(500):  \n",
    "    new_x.append(get_forth_freq(x[i], 1024,512))\n",
    "    feat[i,1] = np.mean(new_x[i][0:-1])\n",
    "    \n",
    "df = pd.DataFrame(feat, columns = ['max','4f'])\n",
    "# Create correlation matrix\n",
    "corr_mat = df.corr(method='pearson')\n",
    "\n",
    "a = abs(corr_mat.unstack())\n",
    "# Convert correlation matrix to 1-D Series and sort\n",
    "sorted_mat = a.sort_values()\n",
    "print(sorted_mat)"
   ]
  },
  {
   "cell_type": "code",
   "execution_count": 49,
   "id": "09a1a162",
   "metadata": {},
   "outputs": [
    {
     "name": "stderr",
     "output_type": "stream",
     "text": [
      "<ipython-input-28-f472b2da5a18>:6: RuntimeWarning: invalid value encountered in double_scalars\n",
      "  current_forth = (np.sum((y - (np.sum(y)/frame_size))**4))/(frame_size * ((np.sum((y - (np.sum(y)/frame_size))**2))/(frame_size-1))**2)\n"
     ]
    },
    {
     "name": "stdout",
     "output_type": "stream",
     "text": [
      "mean  f4      0.088334\n",
      "f4    mean    0.088334\n",
      "mean  mean    1.000000\n",
      "f4    f4      1.000000\n",
      "dtype: float64\n"
     ]
    }
   ],
   "source": [
    "feat = np.zeros((500,2))\n",
    "for i in range(500):\n",
    "    feat[i,0] = np.mean(x[i])\n",
    "new_x = []\n",
    "for i in range(500):  \n",
    "    new_x.append(get_forth_freq(x[i], 1024,512))\n",
    "    feat[i,1] = np.mean(new_x[i][0:-1])\n",
    "    \n",
    "df = pd.DataFrame(feat, columns = ['mean','f4'])\n",
    "# Create correlation matrix\n",
    "corr_mat = df.corr(method='pearson')\n",
    "\n",
    "a = abs(corr_mat.unstack())\n",
    "# Convert correlation matrix to 1-D Series and sort\n",
    "sorted_mat = a.sort_values()\n",
    "print(sorted_mat)"
   ]
  },
  {
   "cell_type": "code",
   "execution_count": 50,
   "id": "fca6de7c",
   "metadata": {},
   "outputs": [
    {
     "name": "stderr",
     "output_type": "stream",
     "text": [
      "<ipython-input-28-f472b2da5a18>:6: RuntimeWarning: invalid value encountered in double_scalars\n",
      "  current_forth = (np.sum((y - (np.sum(y)/frame_size))**4))/(frame_size * ((np.sum((y - (np.sum(y)/frame_size))**2))/(frame_size-1))**2)\n"
     ]
    },
    {
     "name": "stdout",
     "output_type": "stream",
     "text": [
      "skew  4f      0.069601\n",
      "4f    skew    0.069601\n",
      "skew  skew    1.000000\n",
      "4f    4f      1.000000\n",
      "dtype: float64\n"
     ]
    }
   ],
   "source": [
    "feat = np.zeros((500,2))\n",
    "for i in range(500):\n",
    "    feat[i,0] = skew(x[i], axis=0, bias=True)\n",
    "new_x = []\n",
    "for i in range(500):  \n",
    "    new_x.append(get_forth_freq(x[i], 1024,512))\n",
    "    feat[i,1] = np.mean(new_x[i][0:-1])\n",
    "    \n",
    "df = pd.DataFrame(feat, columns = ['skew','4f'])\n",
    "# Create correlation matrix\n",
    "corr_mat = df.corr(method='pearson')\n",
    "\n",
    "a = abs(corr_mat.unstack())\n",
    "# Convert correlation matrix to 1-D Series and sort\n",
    "sorted_mat = a.sort_values()\n",
    "print(sorted_mat)"
   ]
  },
  {
   "cell_type": "code",
   "execution_count": 51,
   "id": "cda92e55",
   "metadata": {},
   "outputs": [
    {
     "name": "stderr",
     "output_type": "stream",
     "text": [
      "<ipython-input-28-f472b2da5a18>:6: RuntimeWarning: invalid value encountered in double_scalars\n",
      "  current_forth = (np.sum((y - (np.sum(y)/frame_size))**4))/(frame_size * ((np.sum((y - (np.sum(y)/frame_size))**2))/(frame_size-1))**2)\n"
     ]
    },
    {
     "name": "stdout",
     "output_type": "stream",
     "text": [
      "kurt  4f      0.117544\n",
      "4f    kurt    0.117544\n",
      "kurt  kurt    1.000000\n",
      "4f    4f      1.000000\n",
      "dtype: float64\n"
     ]
    }
   ],
   "source": [
    "feat = np.zeros((500,2))\n",
    "for i in range(500):\n",
    "    feat[i,0] = kurtosis(x[i], fisher=True)\n",
    "new_x = []\n",
    "for i in range(500):  \n",
    "    new_x.append(get_forth_freq(x[i], 1024,512))\n",
    "    feat[i,1] = np.mean(new_x[i][0:-1])\n",
    "    \n",
    "df = pd.DataFrame(feat, columns = ['kurt','4f'])\n",
    "# Create correlation matrix\n",
    "corr_mat = df.corr(method='pearson')\n",
    "\n",
    "a = abs(corr_mat.unstack())\n",
    "# Convert correlation matrix to 1-D Series and sort\n",
    "sorted_mat = a.sort_values()\n",
    "print(sorted_mat)"
   ]
  },
  {
   "cell_type": "code",
   "execution_count": 52,
   "id": "cf2f7cad",
   "metadata": {},
   "outputs": [
    {
     "name": "stderr",
     "output_type": "stream",
     "text": [
      "<ipython-input-28-f472b2da5a18>:6: RuntimeWarning: invalid value encountered in double_scalars\n",
      "  current_forth = (np.sum((y - (np.sum(y)/frame_size))**4))/(frame_size * ((np.sum((y - (np.sum(y)/frame_size))**2))/(frame_size-1))**2)\n"
     ]
    },
    {
     "name": "stdout",
     "output_type": "stream",
     "text": [
      "pps  4f     0.080607\n",
      "4f   pps    0.080607\n",
      "pps  pps    1.000000\n",
      "4f   4f     1.000000\n",
      "dtype: float64\n"
     ]
    }
   ],
   "source": [
    "feat = np.zeros((500,2))\n",
    "for i in range(500):\n",
    "    ptp = np.ptp(x[i])\n",
    "    tmax = x[i].argmax()\n",
    "    tmin = x[i].argmin()\n",
    "    twopp = tmax - tmin\n",
    "    feat[i,0] = ptp/twopp\n",
    "new_x = []\n",
    "for i in range(500):  \n",
    "    new_x.append(get_forth_freq(x[i], 1024,512))\n",
    "    feat[i,1] = np.mean(new_x[i][0:-1])\n",
    "    \n",
    "df = pd.DataFrame(feat, columns = ['pps','4f'])\n",
    "# Create correlation matrix\n",
    "corr_mat = df.corr(method='pearson')\n",
    "\n",
    "a = abs(corr_mat.unstack())\n",
    "# Convert correlation matrix to 1-D Series and sort\n",
    "sorted_mat = a.sort_values()\n",
    "print(sorted_mat)"
   ]
  },
  {
   "cell_type": "code",
   "execution_count": 53,
   "id": "9c39e208",
   "metadata": {},
   "outputs": [
    {
     "name": "stderr",
     "output_type": "stream",
     "text": [
      "<ipython-input-28-f472b2da5a18>:6: RuntimeWarning: invalid value encountered in double_scalars\n",
      "  current_forth = (np.sum((y - (np.sum(y)/frame_size))**4))/(frame_size * ((np.sum((y - (np.sum(y)/frame_size))**2))/(frame_size-1))**2)\n"
     ]
    }
   ],
   "source": [
    "ar = np.zeros((500,6))\n",
    "new_x = []\n",
    "for i in range(500):\n",
    "    ar[i,0] = max(x[i])\n",
    "    ar[i,1] = np.mean(x[i])\n",
    "    ar[i,2] = skew(x[i], axis=0, bias=True)\n",
    "    ar[i,3] = kurtosis(x[i], fisher=True)\n",
    "    \n",
    "    ptp = np.ptp(x[i])\n",
    "    tmax = x[i].argmax()\n",
    "    tmin = x[i].argmin()\n",
    "    twopp = tmax - tmin\n",
    "    ar[i,4] = ptp/twopp\n",
    "    \n",
    "    new_x.append(get_forth_freq(x[i], 1024,512))\n",
    "    ar[i,5] = np.mean(new_x[i][0:-1])"
   ]
  },
  {
   "cell_type": "markdown",
   "id": "872b3ab3",
   "metadata": {},
   "source": [
    "### 4.lets see how much  feature has new information, and improve the classification "
   ]
  },
  {
   "cell_type": "code",
   "execution_count": 54,
   "id": "07403b03",
   "metadata": {},
   "outputs": [
    {
     "name": "stdout",
     "output_type": "stream",
     "text": [
      "Accuracy :  95.0\n",
      "17\n",
      "32\n",
      "80\n",
      "92\n",
      "95\n"
     ]
    }
   ],
   "source": [
    "ar = np.zeros((500,1))\n",
    "for i in range(500):\n",
    "    ar[i,0] = max(x[i])\n",
    "    \n",
    "X_train, X_test, y_train, y_test = train_test_split(ar,y,random_state=seed,test_size=0.2)\n",
    "clf_gini = train_using_gini(X_train, X_test, y_train)\n",
    "    \n",
    "# Prediction using gini\n",
    "y_pred = clf_gini.predict(X_test)\n",
    "\n",
    "print (\"Accuracy : \", accuracy_score(y_test,y_pred)*100) \n",
    "for i in range(len(y_test)):\n",
    "    if(y_pred[i]!=y_test[i]):\n",
    "        print(i)"
   ]
  },
  {
   "cell_type": "code",
   "execution_count": 55,
   "id": "11c7a7fe",
   "metadata": {},
   "outputs": [
    {
     "name": "stdout",
     "output_type": "stream",
     "text": [
      "Accuracy :  95.0\n",
      "1\n",
      "47\n",
      "63\n",
      "73\n",
      "95\n"
     ]
    }
   ],
   "source": [
    "ar = np.zeros((500,1))\n",
    "for i in range(500):\n",
    "    ar[i,0] = np.std(x[i])\n",
    "    \n",
    "X_train, X_test, y_train, y_test = train_test_split(ar,y,random_state=seed,test_size=0.2)\n",
    "clf_gini = train_using_gini(X_train, X_test, y_train)\n",
    "    \n",
    "# Prediction using gini\n",
    "y_pred = clf_gini.predict(X_test)\n",
    "\n",
    "print (\"Accuracy : \", accuracy_score(y_test,y_pred)*100) \n",
    "for i in range(len(y_test)):\n",
    "    if(y_pred[i]!=y_test[i]):\n",
    "        print(i)"
   ]
  },
  {
   "cell_type": "code",
   "execution_count": 56,
   "id": "9ee707cb",
   "metadata": {},
   "outputs": [
    {
     "name": "stdout",
     "output_type": "stream",
     "text": [
      "Accuracy :  95.0\n",
      "5\n",
      "17\n",
      "38\n",
      "73\n",
      "91\n"
     ]
    }
   ],
   "source": [
    "ar = np.zeros((500,1))\n",
    "for i in range(500):\n",
    "    ar[i,0] = min(x[i])\n",
    "    \n",
    "X_train, X_test, y_train, y_test = train_test_split(ar,y,random_state=seed,test_size=0.2)\n",
    "clf_gini = train_using_gini(X_train, X_test, y_train)\n",
    "    \n",
    "# Prediction using gini\n",
    "y_pred = clf_gini.predict(X_test)\n",
    "\n",
    "print (\"Accuracy : \", accuracy_score(y_test,y_pred)*100) \n",
    "for i in range(len(y_test)):\n",
    "    if(y_pred[i]!=y_test[i]):\n",
    "        print(i)"
   ]
  },
  {
   "cell_type": "code",
   "execution_count": 57,
   "id": "dd467b38",
   "metadata": {},
   "outputs": [
    {
     "name": "stdout",
     "output_type": "stream",
     "text": [
      "Accuracy :  99.0\n",
      "95\n"
     ]
    }
   ],
   "source": [
    "ar = np.zeros((500,2))\n",
    "for i in range(500):\n",
    "    ar[i,0] = np.std(x[i])\n",
    "    ar[i,1] = max(x[i])\n",
    "    \n",
    "X_train, X_test, y_train, y_test = train_test_split(ar,y,random_state=seed,test_size=0.2)\n",
    "clf_gini = train_using_gini(X_train, X_test, y_train)\n",
    "    \n",
    "# Prediction using gini\n",
    "y_pred = clf_gini.predict(X_test)\n",
    "\n",
    "print (\"Accuracy : \", accuracy_score(y_test,y_pred)*100) \n",
    "for i in range(len(y_test)):\n",
    "    if(y_pred[i]!=y_test[i]):\n",
    "        print(i)"
   ]
  },
  {
   "cell_type": "code",
   "execution_count": 58,
   "id": "0c3ef540",
   "metadata": {},
   "outputs": [
    {
     "name": "stdout",
     "output_type": "stream",
     "text": [
      "Accuracy :  99.0\n",
      "95\n"
     ]
    }
   ],
   "source": [
    "ar = np.zeros((500,3))\n",
    "for i in range(500):\n",
    "    ar[i,0] = np.std(x[i])\n",
    "    ar[i,1] = max(x[i])\n",
    "    ar[i,2] = min(x[i])\n",
    "    \n",
    "X_train, X_test, y_train, y_test = train_test_split(ar,y,random_state=seed,test_size=0.2)\n",
    "clf_gini = train_using_gini(X_train, X_test, y_train)\n",
    "    \n",
    "# Prediction using gini\n",
    "y_pred = clf_gini.predict(X_test)\n",
    "\n",
    "print (\"Accuracy : \", accuracy_score(y_test,y_pred)*100) \n",
    "for i in range(len(y_test)):\n",
    "    if(y_pred[i]!=y_test[i]):\n",
    "        print(i)"
   ]
  },
  {
   "cell_type": "code",
   "execution_count": 59,
   "id": "12454762",
   "metadata": {},
   "outputs": [
    {
     "name": "stdout",
     "output_type": "stream",
     "text": [
      "Accuracy :  99.0\n",
      "95\n"
     ]
    }
   ],
   "source": [
    "ar = np.zeros((500,3))\n",
    "for i in range(500):\n",
    "    ar[i,0] = np.std(x[i])\n",
    "    ar[i,1] = max(x[i])\n",
    "    ar[i,2] = skew(x[i], axis=0, bias=True)\n",
    "    \n",
    "X_train, X_test, y_train, y_test = train_test_split(ar,y,random_state=seed,test_size=0.2)\n",
    "clf_gini = train_using_gini(X_train, X_test, y_train)\n",
    "    \n",
    "# Prediction using gini\n",
    "y_pred = clf_gini.predict(X_test)\n",
    "\n",
    "print (\"Accuracy : \", accuracy_score(y_test,y_pred)*100) \n",
    "for i in range(len(y_test)):\n",
    "    if(y_pred[i]!=y_test[i]):\n",
    "        print(i)"
   ]
  },
  {
   "cell_type": "code",
   "execution_count": 60,
   "id": "5cd25395",
   "metadata": {},
   "outputs": [
    {
     "name": "stdout",
     "output_type": "stream",
     "text": [
      "Accuracy :  99.0\n",
      "95\n"
     ]
    }
   ],
   "source": [
    "ar = np.zeros((500,3))\n",
    "for i in range(500):\n",
    "    ar[i,0] = np.std(x[i])\n",
    "    ar[i,1] = max(x[i])\n",
    "    ar[i,2] = np.ptp(x[i])\n",
    "    \n",
    "X_train, X_test, y_train, y_test = train_test_split(ar,y,random_state=seed,test_size=0.2)\n",
    "clf_gini = train_using_gini(X_train, X_test, y_train)\n",
    "    \n",
    "# Prediction using gini\n",
    "y_pred = clf_gini.predict(X_test)\n",
    "\n",
    "print (\"Accuracy : \", accuracy_score(y_test,y_pred)*100) \n",
    "for i in range(len(y_test)):\n",
    "    if(y_pred[i]!=y_test[i]):\n",
    "        print(i)"
   ]
  },
  {
   "cell_type": "code",
   "execution_count": 61,
   "id": "f941f752",
   "metadata": {},
   "outputs": [
    {
     "name": "stdout",
     "output_type": "stream",
     "text": [
      "Accuracy :  98.0\n",
      "63\n",
      "95\n"
     ]
    }
   ],
   "source": [
    "ar = np.zeros((500,3))\n",
    "new_x = []\n",
    "for i in range(500):\n",
    "    ar[i,0] = np.std(x[i])\n",
    "    ar[i,1] = max(x[i])\n",
    "    new_x.append(get_rms_acceleration(x[i], 1024,512))\n",
    "    ar[i,2] = np.mean(new_x[i])\n",
    "    \n",
    "X_train, X_test, y_train, y_test = train_test_split(ar,y,random_state=seed,test_size=0.2)\n",
    "clf_gini = train_using_gini(X_train, X_test, y_train)\n",
    "    \n",
    "# Prediction using gini\n",
    "y_pred = clf_gini.predict(X_test)\n",
    "\n",
    "print (\"Accuracy : \", accuracy_score(y_test,y_pred)*100) \n",
    "for i in range(len(y_test)):\n",
    "    if(y_pred[i]!=y_test[i]):\n",
    "        print(i)    "
   ]
  },
  {
   "cell_type": "code",
   "execution_count": 62,
   "id": "e892d0d1",
   "metadata": {},
   "outputs": [
    {
     "name": "stdout",
     "output_type": "stream",
     "text": [
      "Accuracy :  99.0\n",
      "95\n"
     ]
    }
   ],
   "source": [
    "ar = np.zeros((500,3))\n",
    "new_x = []\n",
    "for i in range(500):\n",
    "    ar[i,0] = np.std(x[i])\n",
    "    ar[i,1] = max(x[i])\n",
    "    new_x.append(get_margin_factor(x[i], 1024,512))\n",
    "    ar[i,2] = np.mean(new_x[i])\n",
    "    \n",
    "X_train, X_test, y_train, y_test = train_test_split(ar,y,random_state=seed,test_size=0.2)\n",
    "clf_gini = train_using_gini(X_train, X_test, y_train)\n",
    "    \n",
    "# Prediction using gini\n",
    "y_pred = clf_gini.predict(X_test)\n",
    "\n",
    "print (\"Accuracy : \", accuracy_score(y_test,y_pred)*100) \n",
    "for i in range(len(y_test)):\n",
    "    if(y_pred[i]!=y_test[i]):\n",
    "        print(i) "
   ]
  },
  {
   "cell_type": "code",
   "execution_count": 63,
   "id": "fa5e9d51",
   "metadata": {},
   "outputs": [
    {
     "name": "stdout",
     "output_type": "stream",
     "text": [
      "Accuracy :  99.0\n",
      "f1 :  [0.99328859 0.98039216]\n",
      "95\n"
     ]
    }
   ],
   "source": [
    "ar = np.zeros((500,3))\n",
    "new_x = []\n",
    "for i in range(500):\n",
    "    ar[i,0] = np.std(x[i])\n",
    "    ar[i,1] = max(x[i])\n",
    "    new_x.append(get_shape_factor(x[i], 1024,512))\n",
    "    ar[i,2] = np.mean(new_x[i])\n",
    "    \n",
    "X_train, X_test, y_train, y_test = train_test_split(ar,y,random_state=seed,test_size=0.2)\n",
    "clf_gini = train_using_gini(X_train, X_test, y_train)\n",
    "    \n",
    "# Prediction using gini\n",
    "y_pred = clf_gini.predict(X_test)\n",
    "\n",
    "print (\"Accuracy : \", accuracy_score(y_test,y_pred)*100) \n",
    "print (\"f1 : \", f1_score(y_test,y_pred, average = None))\n",
    "for i in range(len(y_test)):\n",
    "    if(y_pred[i]!=y_test[i]):\n",
    "        print(i) "
   ]
  },
  {
   "cell_type": "code",
   "execution_count": 64,
   "id": "cb5a8342",
   "metadata": {},
   "outputs": [],
   "source": [
    "x_final = np.zeros((500,2))\n",
    "for i in range(500):\n",
    "    x_final[i,0] = np.std(x[i])\n",
    "    x_final[i,1] = max(x[i])"
   ]
  },
  {
   "cell_type": "markdown",
   "id": "7d55f4ae",
   "metadata": {},
   "source": [
    "# 5.using clustring to improve classification"
   ]
  },
  {
   "cell_type": "code",
   "execution_count": 65,
   "id": "6c07ebfd",
   "metadata": {},
   "outputs": [],
   "source": [
    "clustering = AgglomerativeClustering().fit(x_final)"
   ]
  },
  {
   "cell_type": "code",
   "execution_count": 66,
   "id": "bfdcb2d5",
   "metadata": {},
   "outputs": [],
   "source": [
    "clustering = KMeans(n_clusters=2, random_state=0, n_init=\"auto\").fit(x_final)"
   ]
  },
  {
   "cell_type": "code",
   "execution_count": 67,
   "id": "b5a045e1",
   "metadata": {},
   "outputs": [],
   "source": [
    "cluster1 = []\n",
    "y1 =[]\n",
    "cluster2 = []\n",
    "y2 = []\n",
    "for i in range(len(x_final)):\n",
    "    if(clustering.labels_[i]==0):\n",
    "        cluster1.append(x_final[i])\n",
    "        y1.append(y[i])\n",
    "    if(clustering.labels_[i]==1):\n",
    "        cluster2.append(x_final[i]) \n",
    "        y2.append(y[i])"
   ]
  },
  {
   "cell_type": "code",
   "execution_count": 68,
   "id": "aaeed0f0",
   "metadata": {},
   "outputs": [
    {
     "name": "stdout",
     "output_type": "stream",
     "text": [
      "Accuracy :  97.70114942528735\n"
     ]
    }
   ],
   "source": [
    "X_train, X_test, y_train, y_test = train_test_split(cluster1,y1,random_state=seed,test_size=0.2)\n",
    "\n",
    "clf_gini = train_using_gini(X_train, X_test, y_train)\n",
    "    \n",
    "# Prediction using gini\n",
    "y_pred = clf_gini.predict(X_test)\n",
    "\n",
    "print (\"Accuracy : \", accuracy_score(y_test,y_pred)*100) "
   ]
  },
  {
   "cell_type": "code",
   "execution_count": 69,
   "id": "cb2265e1",
   "metadata": {},
   "outputs": [
    {
     "name": "stdout",
     "output_type": "stream",
     "text": [
      "Accuracy :  92.85714285714286\n"
     ]
    }
   ],
   "source": [
    "X_train, X_test, y_train, y_test = train_test_split(cluster2,y2,random_state=seed,test_size=0.2)\n",
    "\n",
    "clf_gini = train_using_gini(X_train, X_test, y_train)\n",
    "    \n",
    "# Prediction using gini\n",
    "y_pred = clf_gini.predict(X_test)\n",
    "\n",
    "print (\"Accuracy : \", accuracy_score(y_test,y_pred)*100) "
   ]
  },
  {
   "cell_type": "code",
   "execution_count": 70,
   "id": "df42725c",
   "metadata": {},
   "outputs": [
    {
     "name": "stderr",
     "output_type": "stream",
     "text": [
      "c:\\users\\lenovo\\appdata\\local\\programs\\python\\python38\\lib\\site-packages\\sklearn\\utils\\validation.py:1141: DataConversionWarning: A column-vector y was passed when a 1d array was expected. Please change the shape of y to (n_samples, ), for example using ravel().\n",
      "  y = column_or_1d(y, warn=True)\n"
     ]
    },
    {
     "name": "stdout",
     "output_type": "stream",
     "text": [
      "Accuracy :  92.85714285714286\n"
     ]
    }
   ],
   "source": [
    "clf = SVC(kernel='linear')\n",
    "clf.fit(X_train, y_train)\n",
    "\n",
    "y_pred = clf.predict(X_test)\n",
    "\n",
    "print (\"Accuracy : \", accuracy_score(y_test,y_pred)*100) "
   ]
  },
  {
   "cell_type": "markdown",
   "id": "0d71852e",
   "metadata": {},
   "source": [
    "### 6.testing with different class groups"
   ]
  },
  {
   "cell_type": "code",
   "execution_count": 71,
   "id": "831e757d",
   "metadata": {},
   "outputs": [
    {
     "name": "stdout",
     "output_type": "stream",
     "text": [
      "(400, 4097)\n",
      "(100, 4097)\n",
      "(400, 4097)\n",
      "(100, 4097)\n"
     ]
    }
   ],
   "source": [
    "x = pickle.load(open('x.pkl', 'rb'))\n",
    "y = pickle.load(open('y.pkl', 'rb'))\n",
    "\n",
    "#ABCD E\n",
    "x_normal = np.concatenate((x[:300], x[400:]), axis=0)\n",
    "x_seizure = x[300:400]\n",
    "print(x_normal.shape)\n",
    "print(x_seizure.shape)\n",
    "sampling_freq = 173.6 #based on info from website\n",
    "\n",
    "\n",
    "b, a = butter(3, [0.5,40], btype='bandpass',fs=sampling_freq)\n",
    "\n",
    "x_normal_filtered = np.array([lfilter(b,a,x_normal[ind,:]) for ind in range(x_normal.shape[0])])\n",
    "x_seizure_filtered = np.array([lfilter(b,a,x_seizure[ind,:]) for ind in range(x_seizure.shape[0])])\n",
    "print(x_normal.shape)\n",
    "print(x_seizure.shape)\n",
    "\n",
    "x_normal = x_normal_filtered\n",
    "x_seizure = x_seizure_filtered\n",
    "\n",
    "x = np.concatenate((x_normal,x_seizure))\n",
    "y = np.concatenate((np.zeros((400,1)),np.ones((100,1))))"
   ]
  },
  {
   "cell_type": "code",
   "execution_count": 72,
   "id": "cea854d2",
   "metadata": {},
   "outputs": [
    {
     "name": "stdout",
     "output_type": "stream",
     "text": [
      "Accuracy :  99.0\n"
     ]
    }
   ],
   "source": [
    "x_final = np.zeros((500,2))\n",
    "for i in range(500):\n",
    "    x_final[i,0] = np.std(x[i])\n",
    "    x_final[i,1] = max(x[i])\n",
    "\n",
    "\n",
    "X_train, X_test, y_train, y_test = train_test_split(x_final,y,random_state=seed,test_size=0.2)\n",
    "\n",
    "clf_gini = train_using_gini(X_train, X_test, y_train)\n",
    "    \n",
    "# Prediction using gini\n",
    "y_pred = clf_gini.predict(X_test)\n",
    "\n",
    "print (\"Accuracy : \", accuracy_score(y_test,y_pred)*100) "
   ]
  },
  {
   "cell_type": "code",
   "execution_count": 73,
   "id": "e0d31f29",
   "metadata": {},
   "outputs": [],
   "source": [
    "x = pickle.load(open('x.pkl', 'rb'))\n",
    "y = pickle.load(open('y.pkl', 'rb'))\n",
    "\n",
    "#AC E\n",
    "x_normal = np.concatenate((x[:100], x[200:300]), axis=0)\n",
    "x_seizure = x[300:400]\n",
    "sampling_freq = 173.6 #based on info from website\n",
    "\n",
    "\n",
    "b, a = butter(3, [0.5,40], btype='bandpass',fs=sampling_freq)\n",
    "\n",
    "x_normal_filtered = np.array([lfilter(b,a,x_normal[ind,:]) for ind in range(x_normal.shape[0])])\n",
    "x_seizure_filtered = np.array([lfilter(b,a,x_seizure[ind,:]) for ind in range(x_seizure.shape[0])])\n",
    "\n",
    "x_normal = x_normal_filtered\n",
    "x_seizure = x_seizure_filtered\n",
    "\n",
    "x = np.concatenate((x_normal,x_seizure))\n",
    "y = np.concatenate((np.zeros((200,1)),np.ones((100,1))))"
   ]
  },
  {
   "cell_type": "code",
   "execution_count": 74,
   "id": "924870ca",
   "metadata": {},
   "outputs": [
    {
     "name": "stdout",
     "output_type": "stream",
     "text": [
      "Accuracy :  93.33333333333333\n"
     ]
    }
   ],
   "source": [
    "x_final = np.zeros((300,2))\n",
    "for i in range(300):\n",
    "    x_final[i,0] = np.std(x[i])\n",
    "    x_final[i,1] = max(x[i])\n",
    "\n",
    "\n",
    "X_train, X_test, y_train, y_test = train_test_split(x_final,y,random_state=seed,test_size=0.2)\n",
    "\n",
    "clf_gini = train_using_gini(X_train, X_test, y_train)\n",
    "    \n",
    "# Prediction using gini\n",
    "y_pred = clf_gini.predict(X_test)\n",
    "\n",
    "print (\"Accuracy : \", accuracy_score(y_test,y_pred)*100) "
   ]
  },
  {
   "cell_type": "code",
   "execution_count": 75,
   "id": "219ad9bc",
   "metadata": {},
   "outputs": [],
   "source": [
    "x = pickle.load(open('x.pkl', 'rb'))\n",
    "y = pickle.load(open('y.pkl', 'rb'))\n",
    "\n",
    "#D E\n",
    "x_normal = x[400:]\n",
    "x_seizure = x[300:400]\n",
    "sampling_freq = 173.6 #based on info from website\n",
    "\n",
    "\n",
    "b, a = butter(3, [0.5,40], btype='bandpass',fs=sampling_freq)\n",
    "\n",
    "x_normal_filtered = np.array([lfilter(b,a,x_normal[ind,:]) for ind in range(x_normal.shape[0])])\n",
    "x_seizure_filtered = np.array([lfilter(b,a,x_seizure[ind,:]) for ind in range(x_seizure.shape[0])])\n",
    "\n",
    "x_normal = x_normal_filtered\n",
    "x_seizure = x_seizure_filtered\n",
    "\n",
    "x = np.concatenate((x_normal,x_seizure))\n",
    "y = np.concatenate((np.zeros((100,1)),np.ones((100,1))))"
   ]
  },
  {
   "cell_type": "code",
   "execution_count": 76,
   "id": "005bef6f",
   "metadata": {},
   "outputs": [
    {
     "name": "stdout",
     "output_type": "stream",
     "text": [
      "Accuracy :  100.0\n"
     ]
    }
   ],
   "source": [
    "x_final = np.zeros((200,2))\n",
    "for i in range(200):\n",
    "    x_final[i,0] = np.std(x[i])\n",
    "    x_final[i,1] = max(x[i])\n",
    "\n",
    "\n",
    "X_train, X_test, y_train, y_test = train_test_split(x_final,y,random_state=seed,test_size=0.2)\n",
    "\n",
    "clf_gini = train_using_gini(X_train, X_test, y_train)\n",
    "    \n",
    "# Prediction using gini\n",
    "y_pred = clf_gini.predict(X_test)\n",
    "\n",
    "print (\"Accuracy : \", accuracy_score(y_test,y_pred)*100) "
   ]
  },
  {
   "cell_type": "code",
   "execution_count": 77,
   "id": "9d264ff8",
   "metadata": {},
   "outputs": [],
   "source": [
    "x = pickle.load(open('x.pkl', 'rb'))\n",
    "y = pickle.load(open('y.pkl', 'rb'))\n",
    "\n",
    "#AB CD E\n",
    "x_normal = x[:200]\n",
    "x_epilepsy = np.concatenate((x[200:300], x[400:]), axis=0)\n",
    "x_seizure = x[300:400]\n",
    "sampling_freq = 173.6 #based on info from website\n",
    "\n",
    "\n",
    "b, a = butter(3, [0.5,40], btype='bandpass',fs=sampling_freq)\n",
    "\n",
    "x_normal_filtered = np.array([lfilter(b,a,x_normal[ind,:]) for ind in range(x_normal.shape[0])])\n",
    "x_epilepsy_filtered = np.array([lfilter(b,a,x_epilepsy[ind,:]) for ind in range(x_epilepsy.shape[0])])\n",
    "x_seizure_filtered = np.array([lfilter(b,a,x_seizure[ind,:]) for ind in range(x_seizure.shape[0])])\n",
    "x_normal = x_normal_filtered\n",
    "x_epilepsy = x_epilepsy_filtered\n",
    "x_seizure = x_seizure_filtered\n",
    "\n",
    "x = np.concatenate((x_normal,x_epilepsy,x_seizure))\n",
    "y = np.concatenate((np.zeros((200,1)),np.zeros((200,1)),np.ones((100,1))))"
   ]
  },
  {
   "cell_type": "code",
   "execution_count": 78,
   "id": "59dd9885",
   "metadata": {},
   "outputs": [
    {
     "name": "stdout",
     "output_type": "stream",
     "text": [
      "Accuracy :  99.0\n"
     ]
    }
   ],
   "source": [
    "x_final = np.zeros((500,2))\n",
    "for i in range(500):\n",
    "    x_final[i,0] = np.std(x[i])\n",
    "    x_final[i,1] = max(x[i])\n",
    "\n",
    "\n",
    "X_train, X_test, y_train, y_test = train_test_split(x_final,y,random_state=seed,test_size=0.2)\n",
    "\n",
    "clf_gini = train_using_gini(X_train, X_test, y_train)\n",
    "    \n",
    "# Prediction using gini\n",
    "y_pred = clf_gini.predict(X_test)\n",
    "\n",
    "print (\"Accuracy : \", accuracy_score(y_test,y_pred)*100) "
   ]
  },
  {
   "cell_type": "code",
   "execution_count": null,
   "id": "5d4e0ab9",
   "metadata": {},
   "outputs": [],
   "source": []
  }
 ],
 "metadata": {
  "kernelspec": {
   "display_name": "Python 3",
   "language": "python",
   "name": "python3"
  },
  "language_info": {
   "codemirror_mode": {
    "name": "ipython",
    "version": 3
   },
   "file_extension": ".py",
   "mimetype": "text/x-python",
   "name": "python",
   "nbconvert_exporter": "python",
   "pygments_lexer": "ipython3",
   "version": "3.8.3rc1"
  }
 },
 "nbformat": 4,
 "nbformat_minor": 5
}
