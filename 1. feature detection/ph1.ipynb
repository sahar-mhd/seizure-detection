{
 "cells": [
  {
   "cell_type": "code",
   "execution_count": 1,
   "id": "ed016abb",
   "metadata": {},
   "outputs": [],
   "source": [
    "import numpy as np\n",
    "import matplotlib.pyplot as plt\n",
    "import pickle\n",
    "import random\n",
    "import os\n",
    "\n",
    "from scipy.signal import butter, lfilter\n",
    "from scipy.stats import skew, kurtosis\n",
    "from sklearn.model_selection import KFold\n",
    "from sklearn.model_selection import train_test_split\n",
    "from sklearn.metrics import accuracy_score, recall_score, precision_score\n",
    "from sklearn.svm import SVC\n",
    "from sklearn.ensemble import RandomForestClassifier\n",
    "from sklearn.datasets import make_classification\n",
    "from sklearn.neighbors import NearestCentroid"
   ]
  },
  {
   "cell_type": "code",
   "execution_count": 2,
   "id": "09ca59bd",
   "metadata": {},
   "outputs": [],
   "source": [
    "seed = 57\n",
    "random.seed(seed)\n",
    "os.environ['PYTHONHASHSEED'] = str(seed)\n",
    "np.random.seed(seed)"
   ]
  },
  {
   "cell_type": "code",
   "execution_count": 3,
   "id": "24d6c4a6",
   "metadata": {},
   "outputs": [],
   "source": [
    "x = pickle.load(open('x.pkl', 'rb'))\n",
    "y = pickle.load(open('y.pkl', 'rb'))"
   ]
  },
  {
   "cell_type": "code",
   "execution_count": 4,
   "id": "0819a735",
   "metadata": {},
   "outputs": [
    {
     "name": "stdout",
     "output_type": "stream",
     "text": [
      "(400, 4097)\n",
      "(100, 4097)\n"
     ]
    }
   ],
   "source": [
    "x_normal = np.concatenate((x[:300], x[400:]), axis=0)\n",
    "x_seizure = x[300:400]\n",
    "print(x_normal.shape)\n",
    "print(x_seizure.shape)\n",
    "sampling_freq = 173.6 #based on info from website"
   ]
  },
  {
   "cell_type": "code",
   "execution_count": 5,
   "id": "4a0c733f",
   "metadata": {},
   "outputs": [
    {
     "name": "stdout",
     "output_type": "stream",
     "text": [
      "(400, 4097)\n",
      "(100, 4097)\n"
     ]
    }
   ],
   "source": [
    "b, a = butter(3, [0.5,40], btype='bandpass',fs=sampling_freq)\n",
    "\n",
    "x_normal_filtered = np.array([lfilter(b,a,x_normal[ind,:]) for ind in range(x_normal.shape[0])])\n",
    "x_seizure_filtered = np.array([lfilter(b,a,x_seizure[ind,:]) for ind in range(x_seizure.shape[0])])\n",
    "print(x_normal.shape)\n",
    "print(x_seizure.shape)\n",
    "\n",
    "x_normal = x_normal_filtered\n",
    "x_seizure = x_seizure_filtered\n",
    "\n",
    "x = np.concatenate((x_normal,x_seizure))\n",
    "y = np.concatenate((np.zeros((400,1)),np.ones((100,1))))"
   ]
  },
  {
   "cell_type": "code",
   "execution_count": 6,
   "id": "9e203374",
   "metadata": {},
   "outputs": [],
   "source": [
    "arr = np.zeros((500,61))"
   ]
  },
  {
   "cell_type": "code",
   "execution_count": 7,
   "id": "b45167a2",
   "metadata": {},
   "outputs": [],
   "source": [
    "#mean\n",
    "for i in range(500):\n",
    "    arr[i,0] = np.mean(x[i])"
   ]
  },
  {
   "cell_type": "code",
   "execution_count": 8,
   "id": "61777ae1",
   "metadata": {},
   "outputs": [],
   "source": [
    "#std\n",
    "for i in range(500):\n",
    "    arr[i,1] = np.std(x[i])"
   ]
  },
  {
   "cell_type": "code",
   "execution_count": 9,
   "id": "53f1dcdd",
   "metadata": {},
   "outputs": [],
   "source": [
    "#max\n",
    "for i in range(500):\n",
    "    arr[i,2] = max(x[i])"
   ]
  },
  {
   "cell_type": "code",
   "execution_count": 10,
   "id": "b4b57a49",
   "metadata": {},
   "outputs": [],
   "source": [
    "#min\n",
    "for i in range(500):\n",
    "    arr[i,3] = min(x[i])"
   ]
  },
  {
   "cell_type": "code",
   "execution_count": 11,
   "id": "664f6472",
   "metadata": {},
   "outputs": [],
   "source": [
    "#skewness\n",
    "for i in range(500):\n",
    "    arr[i,4] = skew(x[i], axis=0, bias=True)"
   ]
  },
  {
   "cell_type": "code",
   "execution_count": 12,
   "id": "5d069e9a",
   "metadata": {},
   "outputs": [],
   "source": [
    "#kurtosis\n",
    "for i in range(500):\n",
    "    arr[i,5] = kurtosis(x[i], fisher=True)"
   ]
  },
  {
   "cell_type": "code",
   "execution_count": 13,
   "id": "553970c5",
   "metadata": {},
   "outputs": [],
   "source": [
    "#ppt\n",
    "for i in range(500):\n",
    "    arr[i,6] = np.ptp(x[i])"
   ]
  },
  {
   "cell_type": "code",
   "execution_count": 14,
   "id": "4b08ef8a",
   "metadata": {},
   "outputs": [],
   "source": [
    "#twopp\n",
    "for i in range(500):\n",
    "    tmax = x[i].argmax()\n",
    "    tmin = x[i].argmin()\n",
    "    twopp = tmax - tmin\n",
    "    arr[i,7] = twopp"
   ]
  },
  {
   "cell_type": "code",
   "execution_count": 15,
   "id": "c573f13c",
   "metadata": {},
   "outputs": [],
   "source": [
    "#pps\n",
    "new_x = []\n",
    "for i in range(500):\n",
    "    ppt = np.ptp(x[i])\n",
    "    tmax = x[i].argmax()\n",
    "    tmin = x[i].argmin()\n",
    "    twopp = tmax - tmin\n",
    "    arr[i,8] = ppt/twopp\n",
    "    new_x.append(ppt/twopp)"
   ]
  },
  {
   "cell_type": "code",
   "execution_count": 16,
   "id": "6aa3a69c",
   "metadata": {},
   "outputs": [],
   "source": [
    "def get_rms_acceleration(signal, frame_size, hop_length):\n",
    "    rms = []\n",
    "    for i in range(0, len(signal), hop_length):\n",
    "        current_rms = np.sqrt(np.sum(signal[i:i+frame_size]**2)/frame_size)\n",
    "        rms.append(current_rms)\n",
    "    return rms"
   ]
  },
  {
   "cell_type": "code",
   "execution_count": 17,
   "id": "c0621524",
   "metadata": {},
   "outputs": [],
   "source": [
    "new_x = []\n",
    "for i in range(500):\n",
    "    new_x.append(get_rms_acceleration(x[i], 1024,512))\n",
    " \n",
    "    for j in range(9):\n",
    "        arr[i,9+j] = new_x[i][j]"
   ]
  },
  {
   "cell_type": "code",
   "execution_count": 18,
   "id": "43cbb379",
   "metadata": {},
   "outputs": [],
   "source": [
    "def get_margin_factor(signal, frame_size, hop_length):\n",
    "    mar_fac = []\n",
    "    for i in range(0, len(signal), hop_length):\n",
    "        curr_mar_fac = np.max(np.abs(signal[i:i+frame_size])) / ((np.sum(np.sqrt(np.abs(signal[i:i+frame_size])))/ frame_size**2))\n",
    "        mar_fac.append(curr_mar_fac)                             \n",
    "    return mar_fac"
   ]
  },
  {
   "cell_type": "code",
   "execution_count": 19,
   "id": "4a60b81c",
   "metadata": {},
   "outputs": [],
   "source": [
    "new_x = []\n",
    "for i in range(500):\n",
    "    new_x.append(get_margin_factor(x[i], 1024,512))\n",
    "    for j in range(9):\n",
    "        arr[i,18+j] = new_x[i][j]"
   ]
  },
  {
   "cell_type": "code",
   "execution_count": 20,
   "id": "1f93a387",
   "metadata": {},
   "outputs": [],
   "source": [
    "def get_shape_factor(signal, frame_size, hop_length):\n",
    "    fin_shape_fact = []\n",
    "    for i in range(0, len(signal), hop_length):\n",
    "        cur_shape_fact = np.sqrt(((np.sum(signal[i:i+frame_size]**2))/frame_size) / (np.sum(np.abs(signal[i:i+frame_size]))/frame_size))\n",
    "        fin_shape_fact.append(cur_shape_fact)\n",
    "\n",
    "    return fin_shape_fact"
   ]
  },
  {
   "cell_type": "code",
   "execution_count": 21,
   "id": "6c4be57a",
   "metadata": {},
   "outputs": [],
   "source": [
    "new_x = []\n",
    "for i in range(500):\n",
    "    new_x.append(get_shape_factor(x[i], 1024,512))\n",
    "    \n",
    "    for j in range(9):\n",
    "        arr[i,27+j] = new_x[i][j]"
   ]
  },
  {
   "cell_type": "code",
   "execution_count": 22,
   "id": "79d92396",
   "metadata": {},
   "outputs": [],
   "source": [
    "def get_impulse_factor(signal, frame_size, hop_length):\n",
    "    impulse_factor = []\n",
    "    for i in range(0, len(signal), hop_length):\n",
    "        current_impls = max(np.abs(signal[i:i+frame_size]))/(np.sum(np.abs(signal[i:i+frame_size])/frame_size))\n",
    "        impulse_factor.append(current_impls)\n",
    "    return impulse_factor"
   ]
  },
  {
   "cell_type": "code",
   "execution_count": 23,
   "id": "f8d1bf9d",
   "metadata": {},
   "outputs": [],
   "source": [
    "new_x = []\n",
    "for i in range(500):\n",
    "    new_x.append(get_impulse_factor(x[i], 1024,512))\n",
    "    \n",
    "    for j in range(9):\n",
    "        arr[i,36+j] = new_x[i][j]"
   ]
  },
  {
   "cell_type": "code",
   "execution_count": 24,
   "id": "30d2d205",
   "metadata": {},
   "outputs": [],
   "source": [
    "def get_third_freq(signal, frame_size, hop_length):\n",
    "    third = []\n",
    "    for i in range(0, len(signal), hop_length):\n",
    "        L = len(signal[i:i+frame_size])\n",
    "        y = abs(np.fft.fft(signal[i:i+frame_size]/L))[:int(L/2)]\n",
    "        current_third = (np.sum((y - (np.sum(y)/frame_size))**3))/(frame_size * (np.sqrt((np.sum((y - (np.sum(y)/frame_size))**2))/(frame_size-1)))**3)\n",
    "        third.append(current_third)\n",
    "    return np.array(third)"
   ]
  },
  {
   "cell_type": "code",
   "execution_count": 25,
   "id": "e87627c8",
   "metadata": {},
   "outputs": [
    {
     "name": "stderr",
     "output_type": "stream",
     "text": [
      "<ipython-input-24-1a8d04918b9b>:6: RuntimeWarning: invalid value encountered in double_scalars\n",
      "  current_third = (np.sum((y - (np.sum(y)/frame_size))**3))/(frame_size * (np.sqrt((np.sum((y - (np.sum(y)/frame_size))**2))/(frame_size-1)))**3)\n"
     ]
    }
   ],
   "source": [
    "new_x = []\n",
    "for i in range(500):\n",
    "    new_x.append(get_third_freq(x[i], 1024,512))\n",
    "    \n",
    "    for j in range(8):\n",
    "        arr[i,45+j] = new_x[i][j]"
   ]
  },
  {
   "cell_type": "code",
   "execution_count": 26,
   "id": "0b01eb08",
   "metadata": {},
   "outputs": [],
   "source": [
    "def get_forth_freq(signal, frame_size, hop_length):\n",
    "    forth = []\n",
    "    for i in range(0, len(signal), hop_length):\n",
    "        L = len(signal[i:i+frame_size])\n",
    "        y = abs(np.fft.fft(signal[i:i+frame_size]/L))[:int(L/2)]\n",
    "        current_forth = (np.sum((y - (np.sum(y)/frame_size))**4))/(frame_size * ((np.sum((y - (np.sum(y)/frame_size))**2))/(frame_size-1))**2)\n",
    "        forth.append(current_forth)\n",
    "    return np.array(forth)"
   ]
  },
  {
   "cell_type": "code",
   "execution_count": 27,
   "id": "868b1199",
   "metadata": {},
   "outputs": [
    {
     "name": "stderr",
     "output_type": "stream",
     "text": [
      "<ipython-input-26-f472b2da5a18>:6: RuntimeWarning: invalid value encountered in double_scalars\n",
      "  current_forth = (np.sum((y - (np.sum(y)/frame_size))**4))/(frame_size * ((np.sum((y - (np.sum(y)/frame_size))**2))/(frame_size-1))**2)\n"
     ]
    }
   ],
   "source": [
    "new_x = []\n",
    "for i in range(500):\n",
    "    new_x.append(get_forth_freq(x[i], 1024,512))\n",
    "    \n",
    "    for j in range(8):\n",
    "        arr[i,53+j] = new_x[i][j]"
   ]
  },
  {
   "cell_type": "code",
   "execution_count": 28,
   "id": "eb4f623f",
   "metadata": {},
   "outputs": [],
   "source": [
    "kf = KFold(n_splits=5, random_state = seed, shuffle = True)"
   ]
  },
  {
   "cell_type": "code",
   "execution_count": 29,
   "id": "0d90ab94",
   "metadata": {},
   "outputs": [
    {
     "data": {
      "text/plain": [
       "5"
      ]
     },
     "execution_count": 29,
     "metadata": {},
     "output_type": "execute_result"
    }
   ],
   "source": [
    "kf.get_n_splits(arr)"
   ]
  },
  {
   "cell_type": "code",
   "execution_count": 30,
   "id": "ce08e27e",
   "metadata": {},
   "outputs": [
    {
     "name": "stdout",
     "output_type": "stream",
     "text": [
      "  Train: index=[  0   1   2   4   5   6  10  11  12  13  14  15  16  17  18  19  20  21\n",
      "  22  23  24  26  27  28  29  30  31  32  33  34  35  36  39  40  42  44\n",
      "  45  47  48  49  50  51  52  53  54  55  56  57  58  59  60  61  62  63\n",
      "  65  66  68  69  71  72  73  74  75  77  78  79  80  81  83  84  86  87\n",
      "  88  89  90  91  92  93  94  95  97  98  99 101 102 104 105 106 107 108\n",
      " 109 110 113 114 115 117 119 120 122 124 127 128 129 130 132 133 134 135\n",
      " 137 138 139 140 141 142 143 144 145 146 148 149 150 151 152 153 154 155\n",
      " 156 157 158 159 161 162 163 164 165 166 167 168 169 170 171 172 173 174\n",
      " 175 176 177 178 181 182 183 184 185 186 187 188 189 190 191 192 196 198\n",
      " 199 200 201 202 204 206 207 208 209 211 213 214 215 216 218 219 220 221\n",
      " 223 224 225 226 227 228 229 230 233 234 235 236 237 238 239 240 241 243\n",
      " 244 245 246 247 249 251 252 255 257 259 260 261 262 263 264 265 266 267\n",
      " 268 269 270 271 272 273 274 275 276 277 278 280 281 282 284 285 286 287\n",
      " 288 289 290 291 292 293 294 295 296 297 298 299 300 302 303 306 308 310\n",
      " 311 312 313 314 315 316 317 319 320 321 322 324 325 326 327 329 330 332\n",
      " 333 334 335 336 337 338 339 340 341 342 343 345 346 347 348 349 350 351\n",
      " 352 353 354 355 356 357 358 360 363 364 366 367 368 369 370 371 372 373\n",
      " 374 375 376 377 379 380 381 382 383 384 387 388 389 390 393 394 395 396\n",
      " 397 399 400 401 403 405 406 407 410 411 412 414 417 418 419 421 422 423\n",
      " 424 425 426 427 429 430 431 433 434 435 438 440 441 442 444 447 448 449\n",
      " 450 451 452 453 454 456 458 459 461 462 463 464 465 466 467 468 469 470\n",
      " 471 472 473 475 477 479 480 481 482 483 484 486 487 489 491 492 493 494\n",
      " 495 496 497 498]\n",
      "  Test:  index=[  3   7   8   9  25  37  38  41  43  46  64  67  70  76  82  85  96 100\n",
      " 103 111 112 116 118 121 123 125 126 131 136 147 160 179 180 193 194 195\n",
      " 197 203 205 210 212 217 222 231 232 242 248 250 253 254 256 258 279 283\n",
      " 301 304 305 307 309 318 323 328 331 344 359 361 362 365 378 385 386 391\n",
      " 392 398 402 404 408 409 413 415 416 420 428 432 436 437 439 443 445 446\n",
      " 455 457 460 474 476 478 485 488 490 499]\n",
      "  Train: index=[  0   1   2   3   4   5   6   7   8   9  10  11  12  13  15  16  17  18\n",
      "  19  21  22  23  24  25  26  29  30  31  32  33  34  35  36  37  38  39\n",
      "  40  41  42  43  45  46  47  49  50  53  54  56  57  58  59  61  62  63\n",
      "  64  67  70  71  73  74  75  76  77  78  79  81  82  85  86  89  90  91\n",
      "  92  94  96  97  98  99 100 101 102 103 104 105 106 107 108 109 111 112\n",
      " 113 114 115 116 118 120 121 123 124 125 126 127 129 130 131 133 134 136\n",
      " 137 138 139 140 142 143 144 145 146 147 148 149 150 151 152 154 155 156\n",
      " 160 161 162 163 166 168 169 171 172 173 176 177 178 179 180 181 182 183\n",
      " 184 185 186 188 189 190 191 192 193 194 195 196 197 198 199 200 202 203\n",
      " 204 205 206 207 208 209 210 211 212 213 214 215 216 217 218 219 220 222\n",
      " 223 224 225 227 228 230 231 232 233 234 236 237 238 239 241 242 244 246\n",
      " 247 248 250 251 252 253 254 255 256 258 259 260 261 262 263 265 266 268\n",
      " 269 271 272 274 275 277 279 280 281 282 283 284 285 286 290 291 292 293\n",
      " 294 295 297 299 301 302 303 304 305 306 307 308 309 311 312 313 314 316\n",
      " 317 318 319 320 321 322 323 324 325 326 327 328 329 330 331 332 333 336\n",
      " 337 338 339 340 341 342 343 344 346 347 350 351 352 353 356 357 358 359\n",
      " 360 361 362 364 365 366 367 368 369 371 373 374 375 376 377 378 379 385\n",
      " 386 387 388 389 390 391 392 394 395 396 397 398 400 401 402 403 404 405\n",
      " 406 407 408 409 410 411 412 413 415 416 417 419 420 421 422 423 424 425\n",
      " 426 427 428 429 430 432 434 435 436 437 438 439 440 441 443 445 446 448\n",
      " 449 450 451 453 454 455 456 457 459 460 461 462 463 465 466 467 468 469\n",
      " 471 472 474 476 477 478 479 481 482 485 486 487 488 489 490 492 493 495\n",
      " 496 497 498 499]\n",
      "  Test:  index=[ 14  20  27  28  44  48  51  52  55  60  65  66  68  69  72  80  83  84\n",
      "  87  88  93  95 110 117 119 122 128 132 135 141 153 157 158 159 164 165\n",
      " 167 170 174 175 187 201 221 226 229 235 240 243 245 249 257 264 267 270\n",
      " 273 276 278 287 288 289 296 298 300 310 315 334 335 345 348 349 354 355\n",
      " 363 370 372 380 381 382 383 384 393 399 414 418 431 433 442 444 447 452\n",
      " 458 464 470 473 475 480 483 484 491 494]\n",
      "  Train: index=[  0   2   3   4   5   6   7   8   9  12  13  14  15  16  18  19  20  22\n",
      "  23  25  26  27  28  29  30  33  34  36  37  38  40  41  43  44  45  46\n",
      "  47  48  50  51  52  53  54  55  57  58  59  60  63  64  65  66  67  68\n",
      "  69  70  72  73  74  75  76  78  79  80  82  83  84  85  86  87  88  89\n",
      "  91  92  93  94  95  96  97  98  99 100 101 102 103 104 105 106 107 108\n",
      " 110 111 112 113 115 116 117 118 119 120 121 122 123 124 125 126 127 128\n",
      " 129 130 131 132 134 135 136 138 139 140 141 142 146 147 148 151 152 153\n",
      " 154 155 156 157 158 159 160 161 162 164 165 167 170 171 172 173 174 175\n",
      " 176 179 180 181 182 183 184 185 187 190 193 194 195 197 198 199 201 202\n",
      " 203 205 206 207 208 209 210 211 212 213 214 215 216 217 219 220 221 222\n",
      " 224 225 226 227 228 229 230 231 232 235 236 237 238 240 242 243 244 245\n",
      " 246 247 248 249 250 251 252 253 254 255 256 257 258 259 262 264 265 266\n",
      " 267 268 269 270 271 273 276 277 278 279 281 282 283 284 285 286 287 288\n",
      " 289 290 291 293 294 295 296 297 298 299 300 301 302 304 305 307 308 309\n",
      " 310 311 313 314 315 316 317 318 319 320 323 324 327 328 329 330 331 332\n",
      " 334 335 336 337 338 339 340 341 342 344 345 346 347 348 349 351 353 354\n",
      " 355 357 358 359 361 362 363 364 365 367 370 372 373 374 375 376 378 379\n",
      " 380 381 382 383 384 385 386 388 389 390 391 392 393 396 397 398 399 402\n",
      " 403 404 405 406 408 409 410 413 414 415 416 418 420 421 423 428 429 430\n",
      " 431 432 433 436 437 438 439 440 442 443 444 445 446 447 448 450 451 452\n",
      " 453 454 455 456 457 458 460 461 462 463 464 468 470 471 472 473 474 475\n",
      " 476 478 479 480 481 482 483 484 485 486 487 488 489 490 491 492 493 494\n",
      " 495 497 498 499]\n",
      "  Test:  index=[  1  10  11  17  21  24  31  32  35  39  42  49  56  61  62  71  77  81\n",
      "  90 109 114 133 137 143 144 145 149 150 163 166 168 169 177 178 186 188\n",
      " 189 191 192 196 200 204 218 223 233 234 239 241 260 261 263 272 274 275\n",
      " 280 292 303 306 312 321 322 325 326 333 343 350 352 356 360 366 368 369\n",
      " 371 377 387 394 395 400 401 407 411 412 417 419 422 424 425 426 427 434\n",
      " 435 441 449 459 465 466 467 469 477 496]\n",
      "  Train: index=[  1   2   3   4   5   7   8   9  10  11  13  14  15  16  17  20  21  22\n",
      "  24  25  26  27  28  29  31  32  35  37  38  39  40  41  42  43  44  46\n",
      "  48  49  50  51  52  53  54  55  56  57  60  61  62  64  65  66  67  68\n",
      "  69  70  71  72  73  74  76  77  79  80  81  82  83  84  85  86  87  88\n",
      "  89  90  92  93  94  95  96  98 100 103 104 108 109 110 111 112 113 114\n",
      " 115 116 117 118 119 120 121 122 123 125 126 127 128 129 130 131 132 133\n",
      " 135 136 137 138 139 141 142 143 144 145 146 147 149 150 151 153 155 156\n",
      " 157 158 159 160 161 163 164 165 166 167 168 169 170 174 175 176 177 178\n",
      " 179 180 181 184 186 187 188 189 190 191 192 193 194 195 196 197 198 200\n",
      " 201 203 204 205 206 207 209 210 212 213 214 215 217 218 219 220 221 222\n",
      " 223 226 227 229 231 232 233 234 235 237 238 239 240 241 242 243 245 246\n",
      " 248 249 250 253 254 256 257 258 260 261 262 263 264 265 267 268 269 270\n",
      " 272 273 274 275 276 277 278 279 280 283 286 287 288 289 292 293 294 296\n",
      " 298 300 301 303 304 305 306 307 308 309 310 312 314 315 316 318 320 321\n",
      " 322 323 324 325 326 328 329 331 332 333 334 335 336 337 339 341 343 344\n",
      " 345 348 349 350 351 352 354 355 356 357 359 360 361 362 363 364 365 366\n",
      " 367 368 369 370 371 372 375 376 377 378 380 381 382 383 384 385 386 387\n",
      " 389 391 392 393 394 395 398 399 400 401 402 404 406 407 408 409 410 411\n",
      " 412 413 414 415 416 417 418 419 420 421 422 424 425 426 427 428 429 431\n",
      " 432 433 434 435 436 437 438 439 440 441 442 443 444 445 446 447 449 452\n",
      " 453 454 455 456 457 458 459 460 461 462 463 464 465 466 467 469 470 471\n",
      " 472 473 474 475 476 477 478 480 482 483 484 485 488 489 490 491 492 493\n",
      " 494 496 497 499]\n",
      "  Test:  index=[  0   6  12  18  19  23  30  33  34  36  45  47  58  59  63  75  78  91\n",
      "  97  99 101 102 105 106 107 124 134 140 148 152 154 162 171 172 173 182\n",
      " 183 185 199 202 208 211 216 224 225 228 230 236 244 247 251 252 255 259\n",
      " 266 271 281 282 284 285 290 291 295 297 299 302 311 313 317 319 327 330\n",
      " 338 340 342 346 347 353 358 373 374 379 388 390 396 397 403 405 423 430\n",
      " 448 450 451 468 479 481 486 487 495 498]\n",
      "  Train: index=[  0   1   3   6   7   8   9  10  11  12  14  17  18  19  20  21  23  24\n",
      "  25  27  28  30  31  32  33  34  35  36  37  38  39  41  42  43  44  45\n",
      "  46  47  48  49  51  52  55  56  58  59  60  61  62  63  64  65  66  67\n",
      "  68  69  70  71  72  75  76  77  78  80  81  82  83  84  85  87  88  90\n",
      "  91  93  95  96  97  99 100 101 102 103 105 106 107 109 110 111 112 114\n",
      " 116 117 118 119 121 122 123 124 125 126 128 131 132 133 134 135 136 137\n",
      " 140 141 143 144 145 147 148 149 150 152 153 154 157 158 159 160 162 163\n",
      " 164 165 166 167 168 169 170 171 172 173 174 175 177 178 179 180 182 183\n",
      " 185 186 187 188 189 191 192 193 194 195 196 197 199 200 201 202 203 204\n",
      " 205 208 210 211 212 216 217 218 221 222 223 224 225 226 228 229 230 231\n",
      " 232 233 234 235 236 239 240 241 242 243 244 245 247 248 249 250 251 252\n",
      " 253 254 255 256 257 258 259 260 261 263 264 266 267 270 271 272 273 274\n",
      " 275 276 278 279 280 281 282 283 284 285 287 288 289 290 291 292 295 296\n",
      " 297 298 299 300 301 302 303 304 305 306 307 309 310 311 312 313 315 317\n",
      " 318 319 321 322 323 325 326 327 328 330 331 333 334 335 338 340 342 343\n",
      " 344 345 346 347 348 349 350 352 353 354 355 356 358 359 360 361 362 363\n",
      " 365 366 368 369 370 371 372 373 374 377 378 379 380 381 382 383 384 385\n",
      " 386 387 388 390 391 392 393 394 395 396 397 398 399 400 401 402 403 404\n",
      " 405 407 408 409 411 412 413 414 415 416 417 418 419 420 422 423 424 425\n",
      " 426 427 428 430 431 432 433 434 435 436 437 439 441 442 443 444 445 446\n",
      " 447 448 449 450 451 452 455 457 458 459 460 464 465 466 467 468 469 470\n",
      " 473 474 475 476 477 478 479 480 481 483 484 485 486 487 488 490 491 494\n",
      " 495 496 498 499]\n",
      "  Test:  index=[  2   4   5  13  15  16  22  26  29  40  50  53  54  57  73  74  79  86\n",
      "  89  92  94  98 104 108 113 115 120 127 129 130 138 139 142 146 151 155\n",
      " 156 161 176 181 184 190 198 206 207 209 213 214 215 219 220 227 237 238\n",
      " 246 262 265 268 269 277 286 293 294 308 314 316 320 324 329 332 336 337\n",
      " 339 341 351 357 364 367 375 376 389 406 410 421 429 438 440 453 454 456\n",
      " 461 462 463 471 472 482 489 492 493 497]\n"
     ]
    }
   ],
   "source": [
    "for train_index, test_index in kf.split(arr):\n",
    "    print(f\"  Train: index={train_index}\")\n",
    "    print(f\"  Test:  index={test_index}\")"
   ]
  },
  {
   "cell_type": "code",
   "execution_count": 31,
   "id": "f118181f",
   "metadata": {},
   "outputs": [],
   "source": [
    "x_train, x_test, y_train, y_test = train_test_split(arr,y,random_state=seed,test_size=0.2)"
   ]
  },
  {
   "cell_type": "code",
   "execution_count": 32,
   "id": "7946919d",
   "metadata": {},
   "outputs": [
    {
     "name": "stdout",
     "output_type": "stream",
     "text": [
      "(500, 61)\n",
      "(500, 1)\n",
      "(100, 61)\n"
     ]
    }
   ],
   "source": [
    "print(arr.shape)\n",
    "print(y.shape)\n",
    "print(x_test.shape)"
   ]
  },
  {
   "cell_type": "code",
   "execution_count": 33,
   "id": "7619ec63",
   "metadata": {},
   "outputs": [
    {
     "name": "stderr",
     "output_type": "stream",
     "text": [
      "<ipython-input-33-c2c638839e40>:2: DataConversionWarning: A column-vector y was passed when a 1d array was expected. Please change the shape of y to (n_samples,), for example using ravel().\n",
      "  clf2.fit(x_train, y_train)\n"
     ]
    }
   ],
   "source": [
    "clf2 = RandomForestClassifier(max_depth=2, random_state=0)\n",
    "clf2.fit(x_train, y_train)\n",
    "y_pred2 = clf2.predict(x_test)"
   ]
  },
  {
   "cell_type": "code",
   "execution_count": 34,
   "id": "4bd14712",
   "metadata": {},
   "outputs": [
    {
     "name": "stdout",
     "output_type": "stream",
     "text": [
      "0.97\n",
      "1.0\n",
      "0.8846153846153846\n"
     ]
    }
   ],
   "source": [
    "print(accuracy_score(y_test,y_pred2))\n",
    "print(precision_score(y_test, y_pred2))\n",
    "print(recall_score(y_test, y_pred2))"
   ]
  },
  {
   "cell_type": "code",
   "execution_count": 35,
   "id": "3eb28b6f",
   "metadata": {},
   "outputs": [
    {
     "name": "stderr",
     "output_type": "stream",
     "text": [
      "c:\\users\\lenovo\\appdata\\local\\programs\\python\\python38\\lib\\site-packages\\sklearn\\utils\\validation.py:1141: DataConversionWarning: A column-vector y was passed when a 1d array was expected. Please change the shape of y to (n_samples, ), for example using ravel().\n",
      "  y = column_or_1d(y, warn=True)\n"
     ]
    }
   ],
   "source": [
    "clf3 = NearestCentroid()\n",
    "clf3.fit(x_train, y_train)\n",
    "y_pred3 = clf3.predict(x_test)"
   ]
  },
  {
   "cell_type": "code",
   "execution_count": 36,
   "id": "ab00c326",
   "metadata": {},
   "outputs": [
    {
     "name": "stdout",
     "output_type": "stream",
     "text": [
      "0.84\n",
      "0.6923076923076923\n",
      "0.6923076923076923\n"
     ]
    }
   ],
   "source": [
    "print(accuracy_score(y_test,y_pred3))\n",
    "print(precision_score(y_test, y_pred3))\n",
    "print(recall_score(y_test, y_pred3))"
   ]
  },
  {
   "cell_type": "code",
   "execution_count": null,
   "id": "9297f4f3",
   "metadata": {},
   "outputs": [],
   "source": []
  }
 ],
 "metadata": {
  "kernelspec": {
   "display_name": "Python 3",
   "language": "python",
   "name": "python3"
  },
  "language_info": {
   "codemirror_mode": {
    "name": "ipython",
    "version": 3
   },
   "file_extension": ".py",
   "mimetype": "text/x-python",
   "name": "python",
   "nbconvert_exporter": "python",
   "pygments_lexer": "ipython3",
   "version": "3.8.3rc1"
  }
 },
 "nbformat": 4,
 "nbformat_minor": 5
}
